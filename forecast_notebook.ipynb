{
 "cells": [
  {
   "cell_type": "code",
   "execution_count": 1,
   "metadata": {},
   "outputs": [],
   "source": [
    "import numpy as np\n",
    "import pandas as pd\n",
    "import plotly.express as px\n",
    "import torch \n",
    "import os\n",
    "import json\n",
    "import math\n",
    "\n",
    "import plotly.graph_objects as go\n",
    "from plotly.subplots import make_subplots\n",
    "\n",
    "from tools.models import simpleLSTM, simpleLSTM_quantiles\n",
    "from tools.utils import run_closed_loop, perf_measure, run_closed_loop_quantile\n",
    "\n",
    "import matplotlib.pyplot as plt\n"
   ]
  },
  {
   "attachments": {},
   "cell_type": "markdown",
   "metadata": {},
   "source": [
    "### Initialize and load already trained model"
   ]
  },
  {
   "cell_type": "code",
   "execution_count": 8,
   "metadata": {},
   "outputs": [],
   "source": [
    "settlement      = \"Rural-LV1-101-2034\"\n",
    "experiment      = \"BaseScenario_FCInterpolLin\" #BaseScenari\n",
    "time_horizon    = \"0101-3112\"\n",
    "target_model    = \"EC_NP_LV_real_irradiance_MSE\"\n",
    "target          = \"LV\"\n",
    "model_name      = f'{target_model}_best_valid_model.pt'\n",
    "n_outputs       = 3\n",
    "use_positional_encoding = 'all'\n",
    "loss_type = 'mse' # 'mse' or 'quantile'\n",
    "\n",
    "if n_outputs > 1:\n",
    "    multi_output = True\n",
    "else:\n",
    "    multi_output = False\n",
    "\n",
    "experiment_path = os.path.join('./experiments', settlement, experiment, time_horizon)\n",
    "lstm_data_path  = os.path.join(experiment_path,\"analysis\", \"lstm\", \"data\")\n",
    "lstm_model_path = os.path.join(experiment_path, \"analysis\", \"lstm\", \"model\")\n",
    "\n",
    "model_file = os.path.join(lstm_model_path, model_name)\n",
    "\n",
    "if loss_type == 'quantile':\n",
    "    model = simpleLSTM_quantiles(n_input_features=4, n_hidden=50, num_layers=4, n_outputs=n_outputs)\n",
    "    model.load_state_dict(torch.load(model_file,map_location=torch.device(\"cpu\")))\n",
    "    run_inference = run_closed_loop_quantile\n",
    "elif loss_type == 'mse':\n",
    "    model = simpleLSTM(n_input_features=4, n_hidden=50, num_layers=4, n_outputs=n_outputs)\n",
    "    model.load_state_dict(torch.load(model_file,map_location=torch.device(\"cpu\")))\n",
    "    run_inference = run_closed_loop\n",
    "else:\n",
    "    raise NotImplementedError(\"Specify correct loss type\")\n",
    "\n"
   ]
  },
  {
   "cell_type": "markdown",
   "metadata": {},
   "source": [
    "#### Load scaled data and scalings"
   ]
  },
  {
   "cell_type": "code",
   "execution_count": 9,
   "metadata": {},
   "outputs": [],
   "source": [
    "# Read test data\n",
    "df_test_scaled_list_LV = []\n",
    "for i in range(6):\n",
    "    test_data_path = os.path.join(lstm_data_path, f'{target}_scaled_by_LV_test{i}.csv')\n",
    "    df_test_scaled = pd.read_csv(test_data_path, index_col = 0)\n",
    "    # Convert timestamps to datetime objects \n",
    "    datetime_index = pd.to_datetime(df_test_scaled.index)\n",
    "    df_test_scaled.index = datetime_index\n",
    "    df_test_scaled_list_LV.append(df_test_scaled)\n",
    "\n",
    "df_test_scaled_list_NP = []\n",
    "for i in range(6):\n",
    "    test_data_path = os.path.join(lstm_data_path, f'NP_scaled_by_LV_test{i}.csv')\n",
    "    df_test_scaled = pd.read_csv(test_data_path, index_col = 0)\n",
    "    # Convert timestamps to datetime objects \n",
    "    datetime_index = pd.to_datetime(df_test_scaled.index)\n",
    "    df_test_scaled.index = datetime_index\n",
    "    df_test_scaled_list_NP.append(df_test_scaled)\n",
    "\n",
    "df_test_scaled_list_EC = []\n",
    "for i in range(6):\n",
    "    test_data_path = os.path.join(lstm_data_path, f'EC_scaled_by_LV_test{i}.csv')\n",
    "    df_test_scaled = pd.read_csv(test_data_path, index_col = 0)\n",
    "    # Convert timestamps to datetime objects \n",
    "    datetime_index = pd.to_datetime(df_test_scaled.index)\n",
    "    df_test_scaled.index = datetime_index\n",
    "    df_test_scaled_list_EC.append(df_test_scaled)\n",
    "\n",
    "# Read scalings\n",
    "scaling_data_path = os.path.join(lstm_data_path,f'{target}_scalings_by_LV.json')\n",
    "with open(scaling_data_path, 'r') as file:\n",
    "    scaling_dict = json.load(file)"
   ]
  },
  {
   "cell_type": "markdown",
   "metadata": {},
   "source": [
    "## Experiments we want to analyze\n",
    "We extend our network to predict more finegrained information. On a Non-participants and Energy-Community participants level. Additionally we incorporate a Qunatille Loss based Uncertainty estimation for the predictions\n",
    "- Forecasting performance MSE vs Qunatile Loss(Median) - on a NP, EC, LV Level \n",
    "- Training with real irradiance or with forecasted irradiance - compare results based on metrics (MAE, RMSE)\n",
    "- Evaluate the quality of the uncertainty bounds (percentage in interval)\n"
   ]
  },
  {
   "attachments": {},
   "cell_type": "markdown",
   "metadata": {},
   "source": [
    "### Midterm-forecasting comparison \n",
    "Between irradiance forecasts and (imaginary result of having the original irradiance)"
   ]
  },
  {
   "cell_type": "code",
   "execution_count": 10,
   "metadata": {},
   "outputs": [],
   "source": [
    "# prepare scalings to rescale original power profile:\n",
    "max_power = scaling_dict[target]['max']\n",
    "min_power = scaling_dict[target]['min']\n",
    "scalings_max_min = (max_power, min_power)\n",
    "\n",
    "months = ['july', 'august', 'september', 'october', 'november', 'december']\n",
    "source_order = ['NP', 'EC', 'LV']\n"
   ]
  },
  {
   "cell_type": "code",
   "execution_count": 11,
   "metadata": {},
   "outputs": [
    {
     "name": "stdout",
     "output_type": "stream",
     "text": [
      "no qunatile loss experiment\n",
      " Execute next cell\n"
     ]
    }
   ],
   "source": [
    "if loss_type == 'quantile':\n",
    "    df_metrics_comparison = []\n",
    "    show_figures = False\n",
    "    for i in range(6):\n",
    "        lookback = 96\n",
    "        test_values_LV = df_test_scaled_list_LV[i].values\n",
    "        groundtruth_LV = test_values_LV[lookback+1::, 0] # There is a + 1 shift in the inference loop\n",
    "        groundtruth_NP = df_test_scaled_list_NP[i].values[lookback+1::, 0]\n",
    "        groundtruth_EC = df_test_scaled_list_EC[i].values[lookback+1::, 0]\n",
    "\n",
    "        num_test_samples = test_values_LV.shape[0]\n",
    "        steps2predict = num_test_samples-lookback\n",
    "        \n",
    "        #groundtruth = test_values[lookback:-1, 0] \n",
    "        time = pd.Series(df_test_scaled_list_LV[i].index)[lookback:-1]\n",
    "        predictions_with_irradiance_fc, predictions_with_irradiance_fc_quantiles = run_inference(model, test_values_LV, lookback=lookback, \n",
    "                                                                                                            future_prediction=steps2predict, \n",
    "                                                                                                            use_positional_encoding='all', \n",
    "                                                                                                            multi_output=multi_output, \n",
    "                                                                                                            )\n",
    "\n",
    "        predictions_with_irradiance_original, predictions_with_irradiance_original_quantiles = run_inference(model, test_values_LV, lookback=lookback, \n",
    "                                                                                                                        future_prediction=steps2predict,    \n",
    "                                                                                                                        use_positional_encoding='all_original', \n",
    "                                                                                                                        multi_output=multi_output,\n",
    "                                                                                                                        )\n",
    "\n",
    "        groundtruth_LV = groundtruth_LV * (max_power - min_power) + min_power #Rescale to orignal values\n",
    "        groundtruth_NP = groundtruth_NP * (max_power - min_power) + min_power #Rescale to orignal values\n",
    "        groundtruth_EC = groundtruth_EC * (max_power - min_power) + min_power #Rescale to orignal values\n",
    "\n",
    "        predictions_with_irradiance_fc = predictions_with_irradiance_fc * (max_power - min_power) + min_power #Rescale to orignal values\n",
    "        predictions_with_irradiance_original = predictions_with_irradiance_original * (max_power - min_power) + min_power #Rescale to orignal values\n",
    "\n",
    "        predictions_with_irradiance_fc_quantiles= predictions_with_irradiance_fc_quantiles * (max_power - min_power) + min_power #Rescale to orignal values\n",
    "        predictions_with_irradiance_original_quantiles = predictions_with_irradiance_original_quantiles * (max_power - min_power) + min_power #Rescale to orignal values\n",
    "\n",
    "        \n",
    "        ### Summ over 2nd dimension (two outputs)\n",
    "        #if multi_output:\n",
    "            #predictions_with_irradiance_fc_quantiles = np.sum(predictions_with_irradiance_fc_quantiles, axis=1) #+ (scalings_max_min[1]/(scalings_max_min[0]-scalings_max_min[1]))\n",
    "            #predictions_with_irradiance_original_quantiles = np.sum(predictions_with_irradiance_original_quantiles, axis=1) #+ (scalings_max_min[1]/(scalings_max_min[0]-scalings_max_min[1]))\n",
    "        #    predictions_with_irradiance_fc_quantiles = predictions_with_irradiance_fc_quantiles[:, -1, :] #+ (scalings_max_min[1]/(scalings_max_min[0]-scalings_max_min[1]))\n",
    "        #    predictions_with_irradiance_original_quantiles = predictions_with_irradiance_original_quantiles[:, -1, :] #+ (scalings_max_min[1]/(scalings_max_min[0]-scalings_max_min[1]))\n",
    "        \n",
    "        ###\n",
    "        lower_bound = 0\n",
    "        upper_bound = -1\n",
    "        groundtruth = groundtruth_LV\n",
    "        index = -1\n",
    "        lower_bound_with_irradiance_fc = predictions_with_irradiance_fc_quantiles[:, index, lower_bound]\n",
    "        upper_bound_with_irradiance_fc = predictions_with_irradiance_fc_quantiles[:, index, upper_bound]\n",
    "        lower_bound_with_irradiance_original = predictions_with_irradiance_original_quantiles[:,index, lower_bound]\n",
    "        upper_bound_with_irradiance_original = predictions_with_irradiance_original_quantiles[:,index, upper_bound]\n",
    "\n",
    "        uncertainty_interval_irradiance_fc = (upper_bound_with_irradiance_fc - lower_bound_with_irradiance_fc) #/ (1 + np.abs(predictions_with_irradiance_fc))\n",
    "        uncertainty_interval_irradiance_original = (upper_bound_with_irradiance_original - lower_bound_with_irradiance_original) #/ (1 + np.abs(predictions_with_irradiance_original))\n",
    "\n",
    "        if show_figures:\n",
    "            fig = make_subplots(rows=2, cols=1, shared_xaxes=True)\n",
    "\n",
    "            visualization_idx_start = 0\n",
    "            visualization_idx_stop = visualization_idx_start + steps2predict\n",
    "\n",
    "            fig.add_trace(go.Scatter(x =time[visualization_idx_start:visualization_idx_stop], \n",
    "                                    y= groundtruth[visualization_idx_start:visualization_idx_stop],\n",
    "                                    name = \"Groundtruth\"), row=1, col=1)\n",
    "            fig.add_trace(go.Scatter(x =time[visualization_idx_start:visualization_idx_stop], \n",
    "                                    y= predictions_with_irradiance_fc_quantiles[visualization_idx_start:visualization_idx_stop,index, 5], \n",
    "                                    name = \"Prediction\"), row=1, col=1)\n",
    "            # Add lower boundary line\n",
    "            fig.add_trace(go.Scatter(\n",
    "                x=time[visualization_idx_start:visualization_idx_stop],\n",
    "                y=predictions_with_irradiance_fc_quantiles[visualization_idx_start:visualization_idx_stop, index, lower_bound],\n",
    "                mode='lines',\n",
    "                line=dict(width=0.5, color='darkblue'),\n",
    "                showlegend=False,\n",
    "                name='Lower Bound'\n",
    "            ), row =1, col=1)\n",
    "\n",
    "            # Add upper boundary line with fill to the lower boundary line\n",
    "            fig.add_trace(go.Scatter(\n",
    "                x=time[visualization_idx_start:visualization_idx_stop],\n",
    "                y=predictions_with_irradiance_fc_quantiles[visualization_idx_start:visualization_idx_stop, index, upper_bound],\n",
    "                mode='lines',\n",
    "                fill='tonexty', # This fills the area between this line and the previous line\n",
    "                fillcolor='rgba(0, 0, 139, 0.2)', # Adjust the fill color and alpha here\n",
    "                line=dict(width=0.5, color='darkblue'),\n",
    "                showlegend=False,\n",
    "                name='Upper Bound'\n",
    "            ), row=1, col=1)\n",
    "            # ad title\n",
    "\n",
    "            #fig.add_trace(go.Scatter(x =time[visualization_idx_start:visualization_idx_stop], y= (upper_bound_with_irradiance_original-lower_bound_with_irradiance_original)[visualization_idx_start:visualization_idx_stop],name = \"Uncertainty intervall real weather\"))\n",
    "            fig.add_trace(go.Scatter(x =time[visualization_idx_start:visualization_idx_stop], \n",
    "                                    y= uncertainty_interval_irradiance_fc[visualization_idx_start:visualization_idx_stop], \n",
    "                                    name = \"Uncertainty intervall\"),\n",
    "                                    row=2,col=1)\n",
    "            fig.update_layout(title_text=\"Prediction with forecasted weather\")\n",
    "            fig.show()\n",
    "\n",
    "            fig = make_subplots(rows=2, cols=1, shared_xaxes=True)\n",
    "\n",
    "            visualization_idx_start = 0\n",
    "            visualization_idx_stop = visualization_idx_start + steps2predict\n",
    "\n",
    "            fig.add_trace(go.Scatter(x =time[visualization_idx_start:visualization_idx_stop], y= groundtruth[visualization_idx_start:visualization_idx_stop],name = \"Groundtruth\"), row=1, col=1)\n",
    "            fig.add_trace(go.Scatter(x =time[visualization_idx_start:visualization_idx_stop], y= predictions_with_irradiance_original_quantiles[visualization_idx_start:visualization_idx_stop, index, 5], name = \"Real weather\"), row=1, col=1)\n",
    "            # Add lower boundary line\n",
    "            fig.add_trace(go.Scatter(\n",
    "                x=time[visualization_idx_start:visualization_idx_stop],\n",
    "                y=predictions_with_irradiance_original_quantiles[visualization_idx_start:visualization_idx_stop, index,  lower_bound],\n",
    "                mode='lines',\n",
    "                line=dict(width=0.5, color='darkblue'),\n",
    "                showlegend=False,\n",
    "                name='Lower Bound'\n",
    "            ), row=1, col=1)\n",
    "\n",
    "            # Add upper boundary line with fill to the lower boundary line\n",
    "            fig.add_trace(go.Scatter(\n",
    "                x=time[visualization_idx_start:visualization_idx_stop],\n",
    "                y=predictions_with_irradiance_original_quantiles[visualization_idx_start:visualization_idx_stop, index, upper_bound],\n",
    "                mode='lines',\n",
    "                fill='tonexty', # This fills the area between this line and the previous line\n",
    "                fillcolor='rgba(0, 0, 139, 0.2)', # Adjust the fill color and alpha here\n",
    "                line=dict(width=0.5, color='darkblue'),\n",
    "                showlegend=False,\n",
    "                name='Upper Bound'\n",
    "            ), row=1, col=1)\n",
    "\n",
    "            fig.add_trace(go.Scatter(x =time[visualization_idx_start:visualization_idx_stop], \n",
    "                                    y= uncertainty_interval_irradiance_original[visualization_idx_start:visualization_idx_stop], \n",
    "                                    name = \"Uncertainty intervall\"),\n",
    "                                    row=2, col=1)\n",
    "            fig.update_layout(title_text=\"Prediction with real weather\")\n",
    "            fig.show()\n",
    "\n",
    "\n",
    "            fig = go.Figure()\n",
    "\n",
    "            visualization_idx_start = 0\n",
    "            visualization_idx_stop = visualization_idx_start + steps2predict\n",
    "\n",
    "\n",
    "            fig.add_trace(go.Scatter(x =time[visualization_idx_start:visualization_idx_stop], y= uncertainty_interval_irradiance_original[visualization_idx_start:visualization_idx_stop],name = \"Uncertainty intervall real weather\"))\n",
    "            fig.add_trace(go.Scatter(x =time[visualization_idx_start:visualization_idx_stop], y= uncertainty_interval_irradiance_fc[visualization_idx_start:visualization_idx_stop], name = \"Uncertainty intervall fc weather\"))\n",
    "            # Add lower boundary line\n",
    "            # ad title\n",
    "            fig.update_layout(title_text=\"Prediction with forecasted weather\")\n",
    "            fig.show()\n",
    "        \n",
    "        # for NP, EC, LV:\n",
    "        # Evaluate squared error, absolute error for forecasted and original irradiance and write to dataframe\n",
    "        # Evaluate percentage of beeing in uncertainty bounds for forecasted and original irradiance and write to dataframe\n",
    "        #columns of dataframe: MAE, RMSE, p_in_bound, mean_interval_width, month\n",
    "        # Two dataframes for forecasted and original irradiance\n",
    "            \n",
    "        #predictions_with_irradiance_fc_quantiles # (ts_length, 3, n_quantiles)  #index 5 qunatile is median\n",
    "        df_rows_month = pd.DataFrame(columns= ['MAE', 'RMSE', 'MEAN_uncertainty_interval', 'PERCENTAGE_in_uncertainty_bounds', 'source', 'month', 'irradiance_type']) \n",
    "        for k, source in enumerate(source_order):\n",
    "            if source == 'NP':\n",
    "                groundtruth = groundtruth_NP\n",
    "            elif source == 'EC':\n",
    "                groundtruth = groundtruth_EC\n",
    "            elif source == 'LV':\n",
    "                groundtruth = groundtruth_LV\n",
    "            \n",
    "            squared_error_forecast  = (predictions_with_irradiance_fc_quantiles[:,k,5]       - groundtruth)**2\n",
    "            squared_error_original  = (predictions_with_irradiance_original_quantiles[:,k,5] - groundtruth)**2\n",
    "            absolute_error_forecast = np.abs(groundtruth - predictions_with_irradiance_fc_quantiles[:,k,5])\n",
    "            absolute_error_original = np.abs(groundtruth - predictions_with_irradiance_original_quantiles[:,k,5])\n",
    "\n",
    "            #absolute_percentage_eror_forecast = np.abs((groundtruth - predictions_with_irradiance_fc)/groundtruth)\n",
    "            #absolute_percentage_eror_original = np.abs((groundtruth - predictions_with_irradiance_original)/groundtruth)\n",
    "\n",
    "            mse_original_irradiance = squared_error_original.mean()\n",
    "            mse_forecast_irradiance = squared_error_forecast.mean()\n",
    "\n",
    "            mae_original_irradiance = absolute_error_original.mean()\n",
    "            mae_forecast_irradiance = absolute_error_forecast.mean()\n",
    "            rmse_original_irradiance = math.sqrt(mse_original_irradiance)\n",
    "            rmse_forecast_irradiance = math.sqrt(mse_forecast_irradiance)\n",
    "\n",
    "            lower_bound_with_irradiance_fc = predictions_with_irradiance_fc_quantiles[:,k, lower_bound]\n",
    "            upper_bound_with_irradiance_fc = predictions_with_irradiance_fc_quantiles[:,k, upper_bound]\n",
    "            lower_bound_with_irradiance_original = predictions_with_irradiance_original_quantiles[:,k, lower_bound]\n",
    "            upper_bound_with_irradiance_original = predictions_with_irradiance_original_quantiles[:,k, upper_bound]\n",
    "\n",
    "            uncertainty_interval_irradiance_fc = (upper_bound_with_irradiance_fc - lower_bound_with_irradiance_fc) #/ (1 + np.abs(predictions_with_irradiance_fc))\n",
    "            uncertainty_interval_irradiance_original = (upper_bound_with_irradiance_original - lower_bound_with_irradiance_original) #/ (1 + np.abs(predictions_with_irradiance_original))\n",
    "\n",
    "            percentage_in_interval_original_irradiance = (np.logical_and(groundtruth >= lower_bound_with_irradiance_original,  groundtruth <= upper_bound_with_irradiance_original)).mean()\n",
    "            percentage_in_interval_fc_irradiance = (np.logical_and(groundtruth >= lower_bound_with_irradiance_fc,  groundtruth <= upper_bound_with_irradiance_fc)).mean()\n",
    "            df_row = pd.DataFrame({'MAE'    : [mae_forecast_irradiance,  mae_original_irradiance] , \n",
    "                                'RMSE'   : [rmse_forecast_irradiance, rmse_original_irradiance],\n",
    "                                'MEAN_uncertainty_interval': [uncertainty_interval_irradiance_fc.mean(), uncertainty_interval_irradiance_original.mean()], \n",
    "                                'PERCENTAGE_in_uncertainty_bounds': [percentage_in_interval_fc_irradiance, percentage_in_interval_original_irradiance],\n",
    "                                'source': [source, source], 'month': [months[i], months[i]], 'irradiance_type': ['forecasted', 'original']})\n",
    "            df_rows_month = pd.concat([df_rows_month, df_row], ignore_index=True)\n",
    "        #print(df_rows_month.shape)\n",
    "        df_metrics_comparison.append(df_rows_month)\n",
    "\n",
    "    df_metrics_comparison = pd.concat(df_metrics_comparison, ignore_index=True)\n",
    "\n",
    "else:\n",
    "    print('no qunatile loss experiment\\n Execute next cell')\n"
   ]
  },
  {
   "cell_type": "code",
   "execution_count": 12,
   "metadata": {},
   "outputs": [],
   "source": [
    "if loss_type == 'mse':\n",
    "    df_metrics_comparison = []\n",
    "    show_figures = False\n",
    "    for i in range(6):\n",
    "        lookback = 96\n",
    "        test_values_LV = df_test_scaled_list_LV[i].values\n",
    "        groundtruth_LV = test_values_LV[lookback+1::, 0] # There is a + 1 shift in the inference loop\n",
    "        groundtruth_NP = df_test_scaled_list_NP[i].values[lookback+1::, 0]\n",
    "        groundtruth_EC = df_test_scaled_list_EC[i].values[lookback+1::, 0]\n",
    "    \n",
    "        num_test_samples = test_values_LV.shape[0]\n",
    "        steps2predict = num_test_samples-lookback\n",
    "        \n",
    "        #groundtruth = test_values[lookback:-1, 0] \n",
    "        time = pd.Series(df_test_scaled_list_LV[i].index)[lookback:-1]\n",
    "        predictions_with_irradiance_fc, predictions_with_irradiance_fc_all = run_inference(model, test_values_LV, lookback=lookback, \n",
    "                                                                                                            future_prediction=steps2predict, \n",
    "                                                                                                            use_positional_encoding='all', \n",
    "                                                                                                            multi_output=multi_output, \n",
    "                                                                                                            )\n",
    "    \n",
    "        predictions_with_irradiance_original, predictions_with_irradiance_original_all = run_inference(model, test_values_LV, lookback=lookback, \n",
    "                                                                                                                        future_prediction=steps2predict,    \n",
    "                                                                                                                        use_positional_encoding='all_original', \n",
    "                                                                                                                        multi_output=multi_output,\n",
    "                                                                                                                        )\n",
    "    \n",
    "        groundtruth_LV = groundtruth_LV * (max_power - min_power) + min_power #Rescale to orignal values\n",
    "        groundtruth_NP = groundtruth_NP * (max_power - min_power) + min_power #Rescale to orignal values\n",
    "        groundtruth_EC = groundtruth_EC * (max_power - min_power) + min_power #Rescale to orignal values\n",
    "    \n",
    "        predictions_with_irradiance_fc = predictions_with_irradiance_fc * (max_power - min_power) + min_power #Rescale to orignal values\n",
    "        predictions_with_irradiance_original = predictions_with_irradiance_original * (max_power - min_power) + min_power #Rescale to orignal values\n",
    "    \n",
    "        predictions_with_irradiance_fc_all= predictions_with_irradiance_fc_all * (max_power - min_power) + min_power #Rescale to orignal values\n",
    "        predictions_with_irradiance_original_all = predictions_with_irradiance_original_all * (max_power - min_power) + min_power #Rescale to orignal values\n",
    "    \n",
    "    \n",
    "        groundtruth = groundtruth_LV\n",
    "        index = -1\n",
    "    \n",
    "        if show_figures:\n",
    "            fig = make_subplots(rows=1, cols=1, shared_xaxes=True)\n",
    "            visualization_idx_start = 0\n",
    "            visualization_idx_stop = visualization_idx_start + steps2predict\n",
    "            fig.add_trace(go.Scatter(x =time[visualization_idx_start:visualization_idx_stop], \n",
    "                                     y= groundtruth[visualization_idx_start:visualization_idx_stop],\n",
    "                                     name = \"Groundtruth\"), row=1, col=1)\n",
    "            fig.add_trace(go.Scatter(x =time[visualization_idx_start:visualization_idx_stop], \n",
    "                                     y= predictions_with_irradiance_fc_all[visualization_idx_start:visualization_idx_stop, index], \n",
    "                                     name = \"Prediction\"), row=1, col=1)\n",
    "            fig.update_layout(title_text=\"Prediction with forecasted weather\")\n",
    "            fig.show()\n",
    "           \n",
    "            fig = make_subplots(rows=1, cols=1, shared_xaxes=True)\n",
    "            visualization_idx_start = 0\n",
    "            visualization_idx_stop = visualization_idx_start + steps2predict\n",
    "            fig.add_trace(go.Scatter(x =time[visualization_idx_start:visualization_idx_stop],\n",
    "                                     y= groundtruth[visualization_idx_start:visualization_idx_stop],\n",
    "                                     name = \"Groundtruth\"), row=1, col=1)\n",
    "            fig.add_trace(go.Scatter(x =time[visualization_idx_start:visualization_idx_stop], \n",
    "                                     y= predictions_with_irradiance_original_all[visualization_idx_start:visualization_idx_stop, index], \n",
    "                                     name = \"Real weather\"), row=1, col=1)\n",
    "            fig.update_layout(title_text=\"Prediction with real weather\")\n",
    "            fig.show()\n",
    "    \n",
    "        # for NP, EC, LV:\n",
    "        # Evaluate squared error, absolute error for forecasted and original irradiance and write to dataframe\n",
    "        # Evaluate percentage of beeing in uncertainty bounds for forecasted and original irradiance and write to dataframe\n",
    "        #columns of dataframe: MAE, RMSE, p_in_bound, mean_interval_width, month\n",
    "        # Two dataframes for forecasted and original irradiance\n",
    "            \n",
    "        #predictions_with_irradiance_fc_quantiles # (ts_length, 3, n_quantiles)  #index 5 qunatile is median\n",
    "        df_rows_month = pd.DataFrame(columns= ['MAE', 'RMSE', 'source', 'month', 'irradiance_type']) \n",
    "        for k, source in enumerate(source_order):\n",
    "            if source == 'NP':\n",
    "                groundtruth = groundtruth_NP\n",
    "            elif source == 'EC':\n",
    "                groundtruth = groundtruth_EC\n",
    "            elif source == 'LV':\n",
    "                groundtruth = groundtruth_LV\n",
    "            \n",
    "            squared_error_forecast  = (predictions_with_irradiance_fc_all[:,k]       - groundtruth)**2\n",
    "            squared_error_original  = (predictions_with_irradiance_original_all[:,k] - groundtruth)**2\n",
    "            absolute_error_forecast = np.abs(groundtruth - predictions_with_irradiance_fc_all[:,k])\n",
    "            absolute_error_original = np.abs(groundtruth - predictions_with_irradiance_original_all[:,k])\n",
    "    \n",
    "    \n",
    "            mse_original_irradiance = squared_error_original.mean()\n",
    "            mse_forecast_irradiance = squared_error_forecast.mean()\n",
    "    \n",
    "            mae_original_irradiance = absolute_error_original.mean()\n",
    "            mae_forecast_irradiance = absolute_error_forecast.mean()\n",
    "            rmse_original_irradiance = math.sqrt(mse_original_irradiance)\n",
    "            rmse_forecast_irradiance = math.sqrt(mse_forecast_irradiance)\n",
    "    \n",
    "            df_row = pd.DataFrame({'MAE'    : [mae_forecast_irradiance,  mae_original_irradiance] , \n",
    "                                   'RMSE'   : [rmse_forecast_irradiance, rmse_original_irradiance],\n",
    "                                   'source': [source, source], 'month': [months[i], months[i]], 'irradiance_type': ['forecasted', 'original']})\n",
    "            df_rows_month = pd.concat([df_rows_month, df_row], ignore_index=True)\n",
    "        #print(df_rows_month.shape)\n",
    "        df_metrics_comparison.append(df_rows_month)\n",
    "    \n",
    "    df_metrics_comparison = pd.concat(df_metrics_comparison, ignore_index=True)\n",
    "    "
   ]
  },
  {
   "cell_type": "code",
   "execution_count": 13,
   "metadata": {},
   "outputs": [],
   "source": [
    "df_metrics_comparison.to_csv(os.path.join(lstm_model_path, f'comparison_metrics_{target_model}.csv'))"
   ]
  },
  {
   "cell_type": "markdown",
   "metadata": {},
   "source": [
    "### Combine all datasets of experiments "
   ]
  },
  {
   "cell_type": "code",
   "execution_count": 11,
   "metadata": {},
   "outputs": [],
   "source": [
    "df_train_real_irradiance_quantile = pd.read_csv(\"./experiments/Rural-LV1-101-2034/BaseScenario/0101-3112/analysis/lstm/model/comparison_metrics_EC_NP_LV_first_real_irradiance.csv\")\n",
    "df_train_forecast_irradiance_quantile = pd.read_csv(\"./experiments/Rural-LV1-101-2034/BaseScenario/0101-3112/analysis/lstm/model/comparison_metrics_EC_NP_LV_first.csv\")\n",
    "\n",
    "df_train_real_irradiance_mse = pd.read_csv(\"./experiments/Rural-LV1-101-2034/BaseScenario/0101-3112/analysis/lstm/model/comparison_metrics_EC_NP_LV_first_real_irradiance_MSE.csv\")\n",
    "df_train_forecast_irradiance_mse= pd.read_csv(\"./experiments/Rural-LV1-101-2034/BaseScenario/0101-3112/analysis/lstm/model/comparison_metrics_EC_NP_LV_first_MSE.csv\")\n",
    "\n",
    "df_train_real_irradiance_mse['train_irradiance'] = 'original'\n",
    "df_train_forecast_irradiance_mse['train_irradiance'] = 'forecasted'\n",
    "df_train_real_irradiance_quantile['train_irradiance'] = 'original'\n",
    "df_train_forecast_irradiance_quantile['train_irradiance'] = 'forecasted'\n",
    "\n",
    "df_train_real_irradiance_mse['loss_type'] = 'mse'\n",
    "df_train_forecast_irradiance_mse['loss_type'] = 'mse'\n",
    "df_train_real_irradiance_quantile['loss_type'] = 'quantile'\n",
    "df_train_forecast_irradiance_quantile['loss_type'] = 'quantile'\n",
    "\n",
    "df_combined = pd.concat([df_train_real_irradiance_mse, df_train_forecast_irradiance_mse, df_train_real_irradiance_quantile, df_train_forecast_irradiance_quantile], ignore_index=True)\n"
   ]
  },
  {
   "cell_type": "code",
   "execution_count": 13,
   "metadata": {},
   "outputs": [],
   "source": [
    "df_combined.to_csv(os.path.join(lstm_model_path, f'df_summary_combined.csv'))"
   ]
  },
  {
   "cell_type": "code",
   "execution_count": 10,
   "metadata": {},
   "outputs": [],
   "source": [
    "#NP_test0 = pd.read_csv('./experiments/Rural-LV1-101-2034/BaseScenario/0101-3112/analysis/lstm/data/NP_scaled_by_LV_train.csv')\n",
    "#EC_test0 = pd.read_csv('./experiments/Rural-LV1-101-2034/BaseScenario/0101-3112/analysis/lstm/data/EC_scaled_by_LV_train.csv')\n",
    "#LV_test0 = pd.read_csv('./experiments/Rural-LV1-101-2034/BaseScenario/0101-3112/analysis/lstm/data/LV_scaled_by_LV_train.csv')\n",
    "\n",
    "#NP_test0 = pd.read_csv('./experiments/Rural-LV1-101-2034/BaseScenario/0101-3112/analysis/lstm/data/NP_test0.csv')\n",
    "#EC_test0 = pd.read_csv('./experiments/Rural-LV1-101-2034/BaseScenario/0101-3112/analysis/lstm/data/EC_test0.csv')\n",
    "#LV_test0 = pd.read_csv('./experiments/Rural-LV1-101-2034/BaseScenario/0101-3112/analysis/lstm/data/LV_test0.csv')\n",
    "\n",
    "#df_new = pd.DataFrame( [NP_test0['NP'], EC_test0['EC'], LV_test0['LV']]).T\n",
    "#x_max =  97.75610212478624 \n",
    "#x_min = -285.4394146080334\n",
    "#\n",
    "##df_new['EC+NP'] = (df_new['NP'] + df_new['EC']) + (x_min / (x_max - x_min))\n",
    "#\n",
    "#df_new['LV_orig'] = (df_new['LV']) #*(x_max - x_min) + x_min\n",
    "#df_new['NP_orig'] = (df_new['NP']) #*(x_max - x_min) + x_min\n",
    "#df_new['EC_orig'] = (df_new['EC']) #*(x_max - x_min) + x_min\n",
    "##df_new['EC+NP_orig'] = (df_new['NP_orig'] + df_new['EC_orig'])\n",
    "##df_new['LV/NP'] = (df_new['LV'] / df_new['NP']) #+ (x_min / (x_max - x_min))\n",
    "##df_new['LV/EC'] = (df_new['LV'] / df_new['EC']) #+ (x_min / (x_max - x_min))\n",
    "#px.line(df_new).show()\n"
   ]
  },
  {
   "cell_type": "code",
   "execution_count": null,
   "metadata": {},
   "outputs": [],
   "source": []
  },
  {
   "cell_type": "code",
   "execution_count": 17,
   "metadata": {},
   "outputs": [],
   "source": [
    "\n",
    "df_train_real_irradiance = pd.read_csv(\"./experiments/Rural-LV1-101-2034/BaseScenario/0101-3112/analysis/lstm/model/comparison_metrics_EC_NP_LV_real_irradiance_MSE.csv\")\n",
    "df_train_forecast_irradiance = pd.read_csv(\"./experiments/Rural-LV1-101-2034/BaseScenario/0101-3112/analysis/lstm/model/comparison_metrics_EC_NP_LV_forecasted_irradiance_MSE.csv\")\n",
    "\n",
    "df_train_real_irradiance_InterpolLin = pd.read_csv(\"./experiments/Rural-LV1-101-2034/BaseScenario_FCInterpolLin/0101-3112/analysis/lstm/model/comparison_metrics_EC_NP_LV_real_irradiance_MSE.csv\")\n",
    "df_train_forecast_irradiance_InterpolLin = pd.read_csv(\"./experiments/Rural-LV1-101-2034/BaseScenario_FCInterpolLin/0101-3112/analysis/lstm/model/comparison_metrics_EC_NP_LV_forecasted_irradiance_MSE.csv\")\n",
    "\n",
    "df_train_real_irradiance['train_irradiance'] = 'original'\n",
    "df_train_forecast_irradiance['train_irradiance'] = 'forecasted'\n",
    "df_train_real_irradiance_InterpolLin['train_irradiance'] = 'original_InterpolLin'\n",
    "df_train_forecast_irradiance_InterpolLin['train_irradiance'] = 'forecasted_InterpolLin'\n",
    "\n",
    "#df_train_real_irradiance['loss_type'] = 'mse'\n",
    "#df_train_forecast_irradiance['loss_type'] = 'mse'\n",
    "\n",
    "df_combined = pd.concat([df_train_real_irradiance, df_train_forecast_irradiance, df_train_real_irradiance_InterpolLin, df_train_forecast_irradiance_InterpolLin], ignore_index=True)\n"
   ]
  },
  {
   "cell_type": "code",
   "execution_count": 23,
   "metadata": {},
   "outputs": [
    {
     "data": {
      "text/html": [
       "<div>\n",
       "<style scoped>\n",
       "    .dataframe tbody tr th:only-of-type {\n",
       "        vertical-align: middle;\n",
       "    }\n",
       "\n",
       "    .dataframe tbody tr th {\n",
       "        vertical-align: top;\n",
       "    }\n",
       "\n",
       "    .dataframe thead th {\n",
       "        text-align: right;\n",
       "    }\n",
       "</style>\n",
       "<table border=\"1\" class=\"dataframe\">\n",
       "  <thead>\n",
       "    <tr style=\"text-align: right;\">\n",
       "      <th></th>\n",
       "      <th>Unnamed: 0</th>\n",
       "      <th>MAE</th>\n",
       "      <th>RMSE</th>\n",
       "      <th>source</th>\n",
       "      <th>month</th>\n",
       "      <th>irradiance_type</th>\n",
       "      <th>train_irradiance</th>\n",
       "    </tr>\n",
       "  </thead>\n",
       "  <tbody>\n",
       "    <tr>\n",
       "      <th>4</th>\n",
       "      <td>4</td>\n",
       "      <td>14.974258</td>\n",
       "      <td>26.108735</td>\n",
       "      <td>LV</td>\n",
       "      <td>july</td>\n",
       "      <td>forecasted</td>\n",
       "      <td>original</td>\n",
       "    </tr>\n",
       "    <tr>\n",
       "      <th>5</th>\n",
       "      <td>5</td>\n",
       "      <td>7.858742</td>\n",
       "      <td>12.082875</td>\n",
       "      <td>LV</td>\n",
       "      <td>july</td>\n",
       "      <td>original</td>\n",
       "      <td>original</td>\n",
       "    </tr>\n",
       "    <tr>\n",
       "      <th>10</th>\n",
       "      <td>10</td>\n",
       "      <td>21.540101</td>\n",
       "      <td>39.647330</td>\n",
       "      <td>LV</td>\n",
       "      <td>august</td>\n",
       "      <td>forecasted</td>\n",
       "      <td>original</td>\n",
       "    </tr>\n",
       "    <tr>\n",
       "      <th>11</th>\n",
       "      <td>11</td>\n",
       "      <td>9.347223</td>\n",
       "      <td>13.982174</td>\n",
       "      <td>LV</td>\n",
       "      <td>august</td>\n",
       "      <td>original</td>\n",
       "      <td>original</td>\n",
       "    </tr>\n",
       "    <tr>\n",
       "      <th>16</th>\n",
       "      <td>16</td>\n",
       "      <td>18.712162</td>\n",
       "      <td>30.745548</td>\n",
       "      <td>LV</td>\n",
       "      <td>september</td>\n",
       "      <td>forecasted</td>\n",
       "      <td>original</td>\n",
       "    </tr>\n",
       "    <tr>\n",
       "      <th>17</th>\n",
       "      <td>17</td>\n",
       "      <td>11.259826</td>\n",
       "      <td>17.256246</td>\n",
       "      <td>LV</td>\n",
       "      <td>september</td>\n",
       "      <td>original</td>\n",
       "      <td>original</td>\n",
       "    </tr>\n",
       "    <tr>\n",
       "      <th>22</th>\n",
       "      <td>22</td>\n",
       "      <td>12.057777</td>\n",
       "      <td>19.090721</td>\n",
       "      <td>LV</td>\n",
       "      <td>october</td>\n",
       "      <td>forecasted</td>\n",
       "      <td>original</td>\n",
       "    </tr>\n",
       "    <tr>\n",
       "      <th>23</th>\n",
       "      <td>23</td>\n",
       "      <td>9.797462</td>\n",
       "      <td>14.577116</td>\n",
       "      <td>LV</td>\n",
       "      <td>october</td>\n",
       "      <td>original</td>\n",
       "      <td>original</td>\n",
       "    </tr>\n",
       "    <tr>\n",
       "      <th>28</th>\n",
       "      <td>28</td>\n",
       "      <td>10.946331</td>\n",
       "      <td>16.310599</td>\n",
       "      <td>LV</td>\n",
       "      <td>november</td>\n",
       "      <td>forecasted</td>\n",
       "      <td>original</td>\n",
       "    </tr>\n",
       "    <tr>\n",
       "      <th>29</th>\n",
       "      <td>29</td>\n",
       "      <td>10.507123</td>\n",
       "      <td>13.484029</td>\n",
       "      <td>LV</td>\n",
       "      <td>november</td>\n",
       "      <td>original</td>\n",
       "      <td>original</td>\n",
       "    </tr>\n",
       "    <tr>\n",
       "      <th>34</th>\n",
       "      <td>34</td>\n",
       "      <td>10.331470</td>\n",
       "      <td>14.877458</td>\n",
       "      <td>LV</td>\n",
       "      <td>december</td>\n",
       "      <td>forecasted</td>\n",
       "      <td>original</td>\n",
       "    </tr>\n",
       "    <tr>\n",
       "      <th>35</th>\n",
       "      <td>35</td>\n",
       "      <td>10.410665</td>\n",
       "      <td>13.313704</td>\n",
       "      <td>LV</td>\n",
       "      <td>december</td>\n",
       "      <td>original</td>\n",
       "      <td>original</td>\n",
       "    </tr>\n",
       "    <tr>\n",
       "      <th>40</th>\n",
       "      <td>4</td>\n",
       "      <td>14.599941</td>\n",
       "      <td>24.582390</td>\n",
       "      <td>LV</td>\n",
       "      <td>july</td>\n",
       "      <td>forecasted</td>\n",
       "      <td>forecasted</td>\n",
       "    </tr>\n",
       "    <tr>\n",
       "      <th>41</th>\n",
       "      <td>5</td>\n",
       "      <td>14.531720</td>\n",
       "      <td>24.010638</td>\n",
       "      <td>LV</td>\n",
       "      <td>july</td>\n",
       "      <td>original</td>\n",
       "      <td>forecasted</td>\n",
       "    </tr>\n",
       "    <tr>\n",
       "      <th>46</th>\n",
       "      <td>10</td>\n",
       "      <td>20.915576</td>\n",
       "      <td>37.553220</td>\n",
       "      <td>LV</td>\n",
       "      <td>august</td>\n",
       "      <td>forecasted</td>\n",
       "      <td>forecasted</td>\n",
       "    </tr>\n",
       "    <tr>\n",
       "      <th>47</th>\n",
       "      <td>11</td>\n",
       "      <td>20.531171</td>\n",
       "      <td>35.040262</td>\n",
       "      <td>LV</td>\n",
       "      <td>august</td>\n",
       "      <td>original</td>\n",
       "      <td>forecasted</td>\n",
       "    </tr>\n",
       "    <tr>\n",
       "      <th>52</th>\n",
       "      <td>16</td>\n",
       "      <td>17.045981</td>\n",
       "      <td>28.002985</td>\n",
       "      <td>LV</td>\n",
       "      <td>september</td>\n",
       "      <td>forecasted</td>\n",
       "      <td>forecasted</td>\n",
       "    </tr>\n",
       "    <tr>\n",
       "      <th>53</th>\n",
       "      <td>17</td>\n",
       "      <td>17.504112</td>\n",
       "      <td>29.214428</td>\n",
       "      <td>LV</td>\n",
       "      <td>september</td>\n",
       "      <td>original</td>\n",
       "      <td>forecasted</td>\n",
       "    </tr>\n",
       "    <tr>\n",
       "      <th>58</th>\n",
       "      <td>22</td>\n",
       "      <td>13.025184</td>\n",
       "      <td>20.544988</td>\n",
       "      <td>LV</td>\n",
       "      <td>october</td>\n",
       "      <td>forecasted</td>\n",
       "      <td>forecasted</td>\n",
       "    </tr>\n",
       "    <tr>\n",
       "      <th>59</th>\n",
       "      <td>23</td>\n",
       "      <td>14.442471</td>\n",
       "      <td>23.631743</td>\n",
       "      <td>LV</td>\n",
       "      <td>october</td>\n",
       "      <td>original</td>\n",
       "      <td>forecasted</td>\n",
       "    </tr>\n",
       "    <tr>\n",
       "      <th>64</th>\n",
       "      <td>28</td>\n",
       "      <td>11.133658</td>\n",
       "      <td>17.510874</td>\n",
       "      <td>LV</td>\n",
       "      <td>november</td>\n",
       "      <td>forecasted</td>\n",
       "      <td>forecasted</td>\n",
       "    </tr>\n",
       "    <tr>\n",
       "      <th>65</th>\n",
       "      <td>29</td>\n",
       "      <td>11.116124</td>\n",
       "      <td>17.658208</td>\n",
       "      <td>LV</td>\n",
       "      <td>november</td>\n",
       "      <td>original</td>\n",
       "      <td>forecasted</td>\n",
       "    </tr>\n",
       "    <tr>\n",
       "      <th>70</th>\n",
       "      <td>34</td>\n",
       "      <td>9.065398</td>\n",
       "      <td>13.258876</td>\n",
       "      <td>LV</td>\n",
       "      <td>december</td>\n",
       "      <td>forecasted</td>\n",
       "      <td>forecasted</td>\n",
       "    </tr>\n",
       "    <tr>\n",
       "      <th>71</th>\n",
       "      <td>35</td>\n",
       "      <td>9.204639</td>\n",
       "      <td>13.832083</td>\n",
       "      <td>LV</td>\n",
       "      <td>december</td>\n",
       "      <td>original</td>\n",
       "      <td>forecasted</td>\n",
       "    </tr>\n",
       "    <tr>\n",
       "      <th>76</th>\n",
       "      <td>4</td>\n",
       "      <td>14.789744</td>\n",
       "      <td>26.175561</td>\n",
       "      <td>LV</td>\n",
       "      <td>july</td>\n",
       "      <td>forecasted</td>\n",
       "      <td>original_InterpolLin</td>\n",
       "    </tr>\n",
       "    <tr>\n",
       "      <th>77</th>\n",
       "      <td>5</td>\n",
       "      <td>8.277571</td>\n",
       "      <td>13.031255</td>\n",
       "      <td>LV</td>\n",
       "      <td>july</td>\n",
       "      <td>original</td>\n",
       "      <td>original_InterpolLin</td>\n",
       "    </tr>\n",
       "    <tr>\n",
       "      <th>82</th>\n",
       "      <td>10</td>\n",
       "      <td>21.032061</td>\n",
       "      <td>40.380529</td>\n",
       "      <td>LV</td>\n",
       "      <td>august</td>\n",
       "      <td>forecasted</td>\n",
       "      <td>original_InterpolLin</td>\n",
       "    </tr>\n",
       "    <tr>\n",
       "      <th>83</th>\n",
       "      <td>11</td>\n",
       "      <td>8.719663</td>\n",
       "      <td>14.029295</td>\n",
       "      <td>LV</td>\n",
       "      <td>august</td>\n",
       "      <td>original</td>\n",
       "      <td>original_InterpolLin</td>\n",
       "    </tr>\n",
       "    <tr>\n",
       "      <th>88</th>\n",
       "      <td>16</td>\n",
       "      <td>17.618040</td>\n",
       "      <td>30.624871</td>\n",
       "      <td>LV</td>\n",
       "      <td>september</td>\n",
       "      <td>forecasted</td>\n",
       "      <td>original_InterpolLin</td>\n",
       "    </tr>\n",
       "    <tr>\n",
       "      <th>89</th>\n",
       "      <td>17</td>\n",
       "      <td>10.301065</td>\n",
       "      <td>16.174733</td>\n",
       "      <td>LV</td>\n",
       "      <td>september</td>\n",
       "      <td>original</td>\n",
       "      <td>original_InterpolLin</td>\n",
       "    </tr>\n",
       "    <tr>\n",
       "      <th>94</th>\n",
       "      <td>22</td>\n",
       "      <td>10.226118</td>\n",
       "      <td>15.700608</td>\n",
       "      <td>LV</td>\n",
       "      <td>october</td>\n",
       "      <td>forecasted</td>\n",
       "      <td>original_InterpolLin</td>\n",
       "    </tr>\n",
       "    <tr>\n",
       "      <th>95</th>\n",
       "      <td>23</td>\n",
       "      <td>9.001195</td>\n",
       "      <td>13.044922</td>\n",
       "      <td>LV</td>\n",
       "      <td>october</td>\n",
       "      <td>original</td>\n",
       "      <td>original_InterpolLin</td>\n",
       "    </tr>\n",
       "    <tr>\n",
       "      <th>100</th>\n",
       "      <td>28</td>\n",
       "      <td>10.220497</td>\n",
       "      <td>15.438069</td>\n",
       "      <td>LV</td>\n",
       "      <td>november</td>\n",
       "      <td>forecasted</td>\n",
       "      <td>original_InterpolLin</td>\n",
       "    </tr>\n",
       "    <tr>\n",
       "      <th>101</th>\n",
       "      <td>29</td>\n",
       "      <td>8.441077</td>\n",
       "      <td>11.290171</td>\n",
       "      <td>LV</td>\n",
       "      <td>november</td>\n",
       "      <td>original</td>\n",
       "      <td>original_InterpolLin</td>\n",
       "    </tr>\n",
       "    <tr>\n",
       "      <th>106</th>\n",
       "      <td>34</td>\n",
       "      <td>9.139040</td>\n",
       "      <td>13.259505</td>\n",
       "      <td>LV</td>\n",
       "      <td>december</td>\n",
       "      <td>forecasted</td>\n",
       "      <td>original_InterpolLin</td>\n",
       "    </tr>\n",
       "    <tr>\n",
       "      <th>107</th>\n",
       "      <td>35</td>\n",
       "      <td>7.832590</td>\n",
       "      <td>10.433423</td>\n",
       "      <td>LV</td>\n",
       "      <td>december</td>\n",
       "      <td>original</td>\n",
       "      <td>original_InterpolLin</td>\n",
       "    </tr>\n",
       "    <tr>\n",
       "      <th>112</th>\n",
       "      <td>4</td>\n",
       "      <td>16.270544</td>\n",
       "      <td>25.494815</td>\n",
       "      <td>LV</td>\n",
       "      <td>july</td>\n",
       "      <td>forecasted</td>\n",
       "      <td>forecasted_InterpolLin</td>\n",
       "    </tr>\n",
       "    <tr>\n",
       "      <th>113</th>\n",
       "      <td>5</td>\n",
       "      <td>14.603576</td>\n",
       "      <td>21.724214</td>\n",
       "      <td>LV</td>\n",
       "      <td>july</td>\n",
       "      <td>original</td>\n",
       "      <td>forecasted_InterpolLin</td>\n",
       "    </tr>\n",
       "    <tr>\n",
       "      <th>118</th>\n",
       "      <td>10</td>\n",
       "      <td>20.181050</td>\n",
       "      <td>36.075651</td>\n",
       "      <td>LV</td>\n",
       "      <td>august</td>\n",
       "      <td>forecasted</td>\n",
       "      <td>forecasted_InterpolLin</td>\n",
       "    </tr>\n",
       "    <tr>\n",
       "      <th>119</th>\n",
       "      <td>11</td>\n",
       "      <td>16.404570</td>\n",
       "      <td>27.035204</td>\n",
       "      <td>LV</td>\n",
       "      <td>august</td>\n",
       "      <td>original</td>\n",
       "      <td>forecasted_InterpolLin</td>\n",
       "    </tr>\n",
       "    <tr>\n",
       "      <th>124</th>\n",
       "      <td>16</td>\n",
       "      <td>16.000531</td>\n",
       "      <td>26.351470</td>\n",
       "      <td>LV</td>\n",
       "      <td>september</td>\n",
       "      <td>forecasted</td>\n",
       "      <td>forecasted_InterpolLin</td>\n",
       "    </tr>\n",
       "    <tr>\n",
       "      <th>125</th>\n",
       "      <td>17</td>\n",
       "      <td>13.774099</td>\n",
       "      <td>22.076893</td>\n",
       "      <td>LV</td>\n",
       "      <td>september</td>\n",
       "      <td>original</td>\n",
       "      <td>forecasted_InterpolLin</td>\n",
       "    </tr>\n",
       "    <tr>\n",
       "      <th>130</th>\n",
       "      <td>22</td>\n",
       "      <td>11.129677</td>\n",
       "      <td>16.977155</td>\n",
       "      <td>LV</td>\n",
       "      <td>october</td>\n",
       "      <td>forecasted</td>\n",
       "      <td>forecasted_InterpolLin</td>\n",
       "    </tr>\n",
       "    <tr>\n",
       "      <th>131</th>\n",
       "      <td>23</td>\n",
       "      <td>10.947007</td>\n",
       "      <td>16.360635</td>\n",
       "      <td>LV</td>\n",
       "      <td>october</td>\n",
       "      <td>original</td>\n",
       "      <td>forecasted_InterpolLin</td>\n",
       "    </tr>\n",
       "    <tr>\n",
       "      <th>136</th>\n",
       "      <td>28</td>\n",
       "      <td>9.985446</td>\n",
       "      <td>15.455698</td>\n",
       "      <td>LV</td>\n",
       "      <td>november</td>\n",
       "      <td>forecasted</td>\n",
       "      <td>forecasted_InterpolLin</td>\n",
       "    </tr>\n",
       "    <tr>\n",
       "      <th>137</th>\n",
       "      <td>29</td>\n",
       "      <td>8.882527</td>\n",
       "      <td>13.041365</td>\n",
       "      <td>LV</td>\n",
       "      <td>november</td>\n",
       "      <td>original</td>\n",
       "      <td>forecasted_InterpolLin</td>\n",
       "    </tr>\n",
       "    <tr>\n",
       "      <th>142</th>\n",
       "      <td>34</td>\n",
       "      <td>9.525692</td>\n",
       "      <td>13.698872</td>\n",
       "      <td>LV</td>\n",
       "      <td>december</td>\n",
       "      <td>forecasted</td>\n",
       "      <td>forecasted_InterpolLin</td>\n",
       "    </tr>\n",
       "    <tr>\n",
       "      <th>143</th>\n",
       "      <td>35</td>\n",
       "      <td>8.472122</td>\n",
       "      <td>11.917237</td>\n",
       "      <td>LV</td>\n",
       "      <td>december</td>\n",
       "      <td>original</td>\n",
       "      <td>forecasted_InterpolLin</td>\n",
       "    </tr>\n",
       "  </tbody>\n",
       "</table>\n",
       "</div>"
      ],
      "text/plain": [
       "     Unnamed: 0        MAE       RMSE source      month irradiance_type  \\\n",
       "4             4  14.974258  26.108735     LV       july      forecasted   \n",
       "5             5   7.858742  12.082875     LV       july        original   \n",
       "10           10  21.540101  39.647330     LV     august      forecasted   \n",
       "11           11   9.347223  13.982174     LV     august        original   \n",
       "16           16  18.712162  30.745548     LV  september      forecasted   \n",
       "17           17  11.259826  17.256246     LV  september        original   \n",
       "22           22  12.057777  19.090721     LV    october      forecasted   \n",
       "23           23   9.797462  14.577116     LV    october        original   \n",
       "28           28  10.946331  16.310599     LV   november      forecasted   \n",
       "29           29  10.507123  13.484029     LV   november        original   \n",
       "34           34  10.331470  14.877458     LV   december      forecasted   \n",
       "35           35  10.410665  13.313704     LV   december        original   \n",
       "40            4  14.599941  24.582390     LV       july      forecasted   \n",
       "41            5  14.531720  24.010638     LV       july        original   \n",
       "46           10  20.915576  37.553220     LV     august      forecasted   \n",
       "47           11  20.531171  35.040262     LV     august        original   \n",
       "52           16  17.045981  28.002985     LV  september      forecasted   \n",
       "53           17  17.504112  29.214428     LV  september        original   \n",
       "58           22  13.025184  20.544988     LV    october      forecasted   \n",
       "59           23  14.442471  23.631743     LV    october        original   \n",
       "64           28  11.133658  17.510874     LV   november      forecasted   \n",
       "65           29  11.116124  17.658208     LV   november        original   \n",
       "70           34   9.065398  13.258876     LV   december      forecasted   \n",
       "71           35   9.204639  13.832083     LV   december        original   \n",
       "76            4  14.789744  26.175561     LV       july      forecasted   \n",
       "77            5   8.277571  13.031255     LV       july        original   \n",
       "82           10  21.032061  40.380529     LV     august      forecasted   \n",
       "83           11   8.719663  14.029295     LV     august        original   \n",
       "88           16  17.618040  30.624871     LV  september      forecasted   \n",
       "89           17  10.301065  16.174733     LV  september        original   \n",
       "94           22  10.226118  15.700608     LV    october      forecasted   \n",
       "95           23   9.001195  13.044922     LV    october        original   \n",
       "100          28  10.220497  15.438069     LV   november      forecasted   \n",
       "101          29   8.441077  11.290171     LV   november        original   \n",
       "106          34   9.139040  13.259505     LV   december      forecasted   \n",
       "107          35   7.832590  10.433423     LV   december        original   \n",
       "112           4  16.270544  25.494815     LV       july      forecasted   \n",
       "113           5  14.603576  21.724214     LV       july        original   \n",
       "118          10  20.181050  36.075651     LV     august      forecasted   \n",
       "119          11  16.404570  27.035204     LV     august        original   \n",
       "124          16  16.000531  26.351470     LV  september      forecasted   \n",
       "125          17  13.774099  22.076893     LV  september        original   \n",
       "130          22  11.129677  16.977155     LV    october      forecasted   \n",
       "131          23  10.947007  16.360635     LV    october        original   \n",
       "136          28   9.985446  15.455698     LV   november      forecasted   \n",
       "137          29   8.882527  13.041365     LV   november        original   \n",
       "142          34   9.525692  13.698872     LV   december      forecasted   \n",
       "143          35   8.472122  11.917237     LV   december        original   \n",
       "\n",
       "           train_irradiance  \n",
       "4                  original  \n",
       "5                  original  \n",
       "10                 original  \n",
       "11                 original  \n",
       "16                 original  \n",
       "17                 original  \n",
       "22                 original  \n",
       "23                 original  \n",
       "28                 original  \n",
       "29                 original  \n",
       "34                 original  \n",
       "35                 original  \n",
       "40               forecasted  \n",
       "41               forecasted  \n",
       "46               forecasted  \n",
       "47               forecasted  \n",
       "52               forecasted  \n",
       "53               forecasted  \n",
       "58               forecasted  \n",
       "59               forecasted  \n",
       "64               forecasted  \n",
       "65               forecasted  \n",
       "70               forecasted  \n",
       "71               forecasted  \n",
       "76     original_InterpolLin  \n",
       "77     original_InterpolLin  \n",
       "82     original_InterpolLin  \n",
       "83     original_InterpolLin  \n",
       "88     original_InterpolLin  \n",
       "89     original_InterpolLin  \n",
       "94     original_InterpolLin  \n",
       "95     original_InterpolLin  \n",
       "100    original_InterpolLin  \n",
       "101    original_InterpolLin  \n",
       "106    original_InterpolLin  \n",
       "107    original_InterpolLin  \n",
       "112  forecasted_InterpolLin  \n",
       "113  forecasted_InterpolLin  \n",
       "118  forecasted_InterpolLin  \n",
       "119  forecasted_InterpolLin  \n",
       "124  forecasted_InterpolLin  \n",
       "125  forecasted_InterpolLin  \n",
       "130  forecasted_InterpolLin  \n",
       "131  forecasted_InterpolLin  \n",
       "136  forecasted_InterpolLin  \n",
       "137  forecasted_InterpolLin  \n",
       "142  forecasted_InterpolLin  \n",
       "143  forecasted_InterpolLin  "
      ]
     },
     "execution_count": 23,
     "metadata": {},
     "output_type": "execute_result"
    }
   ],
   "source": [
    "df_combined_LV = df_combined[df_combined['source'] == 'LV']\n",
    "df_combined_LV"
   ]
  },
  {
   "cell_type": "code",
   "execution_count": 27,
   "metadata": {},
   "outputs": [
    {
     "data": {
      "application/vnd.plotly.v1+json": {
       "config": {
        "plotlyServerURL": "https://plot.ly"
       },
       "data": [
        {
         "hovertemplate": "train_irradiance=original<br>irradiance_type=forecasted<br>month=%{x}<br>RMSE=%{y}<extra></extra>",
         "legendgroup": "original, forecasted",
         "line": {
          "color": "#636efa",
          "dash": "solid"
         },
         "marker": {
          "symbol": "circle"
         },
         "mode": "lines+markers",
         "name": "original, forecasted",
         "orientation": "v",
         "showlegend": true,
         "type": "scatter",
         "x": [
          "july",
          "august",
          "september",
          "october",
          "november",
          "december"
         ],
         "xaxis": "x",
         "y": [
          26.108735266186965,
          39.64732989894952,
          30.745547533059288,
          19.090720808083923,
          16.310599386764128,
          14.87745786354374
         ],
         "yaxis": "y"
        },
        {
         "hovertemplate": "train_irradiance=original<br>irradiance_type=original<br>month=%{x}<br>RMSE=%{y}<extra></extra>",
         "legendgroup": "original, original",
         "line": {
          "color": "#636efa",
          "dash": "solid"
         },
         "marker": {
          "symbol": "diamond"
         },
         "mode": "lines+markers",
         "name": "original, original",
         "orientation": "v",
         "showlegend": true,
         "type": "scatter",
         "x": [
          "july",
          "august",
          "september",
          "october",
          "november",
          "december"
         ],
         "xaxis": "x",
         "y": [
          12.082875150542964,
          13.982174042965411,
          17.256246091102753,
          14.577115579722848,
          13.484029315747492,
          13.313704176126262
         ],
         "yaxis": "y"
        },
        {
         "hovertemplate": "train_irradiance=forecasted<br>irradiance_type=forecasted<br>month=%{x}<br>RMSE=%{y}<extra></extra>",
         "legendgroup": "forecasted, forecasted",
         "line": {
          "color": "#EF553B",
          "dash": "solid"
         },
         "marker": {
          "symbol": "circle"
         },
         "mode": "lines+markers",
         "name": "forecasted, forecasted",
         "orientation": "v",
         "showlegend": true,
         "type": "scatter",
         "x": [
          "july",
          "august",
          "september",
          "october",
          "november",
          "december"
         ],
         "xaxis": "x",
         "y": [
          24.582390391089408,
          37.55321968422598,
          28.00298490389808,
          20.54498750431266,
          17.510873575196573,
          13.258876322595723
         ],
         "yaxis": "y"
        },
        {
         "hovertemplate": "train_irradiance=forecasted<br>irradiance_type=original<br>month=%{x}<br>RMSE=%{y}<extra></extra>",
         "legendgroup": "forecasted, original",
         "line": {
          "color": "#EF553B",
          "dash": "solid"
         },
         "marker": {
          "symbol": "diamond"
         },
         "mode": "lines+markers",
         "name": "forecasted, original",
         "orientation": "v",
         "showlegend": true,
         "type": "scatter",
         "x": [
          "july",
          "august",
          "september",
          "october",
          "november",
          "december"
         ],
         "xaxis": "x",
         "y": [
          24.010637567228404,
          35.0402617521532,
          29.214427641788397,
          23.631743360641423,
          17.65820779333147,
          13.832082644559623
         ],
         "yaxis": "y"
        },
        {
         "hovertemplate": "train_irradiance=original_InterpolLin<br>irradiance_type=forecasted<br>month=%{x}<br>RMSE=%{y}<extra></extra>",
         "legendgroup": "original_InterpolLin, forecasted",
         "line": {
          "color": "#00cc96",
          "dash": "solid"
         },
         "marker": {
          "symbol": "circle"
         },
         "mode": "lines+markers",
         "name": "original_InterpolLin, forecasted",
         "orientation": "v",
         "showlegend": true,
         "type": "scatter",
         "x": [
          "july",
          "august",
          "september",
          "october",
          "november",
          "december"
         ],
         "xaxis": "x",
         "y": [
          26.17556103117228,
          40.38052921018882,
          30.62487132211748,
          15.700608346923817,
          15.438068960650822,
          13.259505094368311
         ],
         "yaxis": "y"
        },
        {
         "hovertemplate": "train_irradiance=original_InterpolLin<br>irradiance_type=original<br>month=%{x}<br>RMSE=%{y}<extra></extra>",
         "legendgroup": "original_InterpolLin, original",
         "line": {
          "color": "#00cc96",
          "dash": "solid"
         },
         "marker": {
          "symbol": "diamond"
         },
         "mode": "lines+markers",
         "name": "original_InterpolLin, original",
         "orientation": "v",
         "showlegend": true,
         "type": "scatter",
         "x": [
          "july",
          "august",
          "september",
          "october",
          "november",
          "december"
         ],
         "xaxis": "x",
         "y": [
          13.031254620918656,
          14.02929539382322,
          16.174733424519154,
          13.04492166751721,
          11.290170635635045,
          10.433422684019163
         ],
         "yaxis": "y"
        },
        {
         "hovertemplate": "train_irradiance=forecasted_InterpolLin<br>irradiance_type=forecasted<br>month=%{x}<br>RMSE=%{y}<extra></extra>",
         "legendgroup": "forecasted_InterpolLin, forecasted",
         "line": {
          "color": "#ab63fa",
          "dash": "solid"
         },
         "marker": {
          "symbol": "circle"
         },
         "mode": "lines+markers",
         "name": "forecasted_InterpolLin, forecasted",
         "orientation": "v",
         "showlegend": true,
         "type": "scatter",
         "x": [
          "july",
          "august",
          "september",
          "october",
          "november",
          "december"
         ],
         "xaxis": "x",
         "y": [
          25.494815384059624,
          36.07565121279914,
          26.351470194687803,
          16.977155351186433,
          15.455697990868671,
          13.698872146312077
         ],
         "yaxis": "y"
        },
        {
         "hovertemplate": "train_irradiance=forecasted_InterpolLin<br>irradiance_type=original<br>month=%{x}<br>RMSE=%{y}<extra></extra>",
         "legendgroup": "forecasted_InterpolLin, original",
         "line": {
          "color": "#ab63fa",
          "dash": "solid"
         },
         "marker": {
          "symbol": "diamond"
         },
         "mode": "lines+markers",
         "name": "forecasted_InterpolLin, original",
         "orientation": "v",
         "showlegend": true,
         "type": "scatter",
         "x": [
          "july",
          "august",
          "september",
          "october",
          "november",
          "december"
         ],
         "xaxis": "x",
         "y": [
          21.72421435686607,
          27.03520415187358,
          22.07689344553796,
          16.360634703746317,
          13.041364909904058,
          11.917237052510943
         ],
         "yaxis": "y"
        }
       ],
       "layout": {
        "legend": {
         "title": {
          "text": "train_irradiance, irradiance_type"
         },
         "tracegroupgap": 0
        },
        "template": {
         "data": {
          "bar": [
           {
            "error_x": {
             "color": "#2a3f5f"
            },
            "error_y": {
             "color": "#2a3f5f"
            },
            "marker": {
             "line": {
              "color": "#E5ECF6",
              "width": 0.5
             },
             "pattern": {
              "fillmode": "overlay",
              "size": 10,
              "solidity": 0.2
             }
            },
            "type": "bar"
           }
          ],
          "barpolar": [
           {
            "marker": {
             "line": {
              "color": "#E5ECF6",
              "width": 0.5
             },
             "pattern": {
              "fillmode": "overlay",
              "size": 10,
              "solidity": 0.2
             }
            },
            "type": "barpolar"
           }
          ],
          "carpet": [
           {
            "aaxis": {
             "endlinecolor": "#2a3f5f",
             "gridcolor": "white",
             "linecolor": "white",
             "minorgridcolor": "white",
             "startlinecolor": "#2a3f5f"
            },
            "baxis": {
             "endlinecolor": "#2a3f5f",
             "gridcolor": "white",
             "linecolor": "white",
             "minorgridcolor": "white",
             "startlinecolor": "#2a3f5f"
            },
            "type": "carpet"
           }
          ],
          "choropleth": [
           {
            "colorbar": {
             "outlinewidth": 0,
             "ticks": ""
            },
            "type": "choropleth"
           }
          ],
          "contour": [
           {
            "colorbar": {
             "outlinewidth": 0,
             "ticks": ""
            },
            "colorscale": [
             [
              0,
              "#0d0887"
             ],
             [
              0.1111111111111111,
              "#46039f"
             ],
             [
              0.2222222222222222,
              "#7201a8"
             ],
             [
              0.3333333333333333,
              "#9c179e"
             ],
             [
              0.4444444444444444,
              "#bd3786"
             ],
             [
              0.5555555555555556,
              "#d8576b"
             ],
             [
              0.6666666666666666,
              "#ed7953"
             ],
             [
              0.7777777777777778,
              "#fb9f3a"
             ],
             [
              0.8888888888888888,
              "#fdca26"
             ],
             [
              1,
              "#f0f921"
             ]
            ],
            "type": "contour"
           }
          ],
          "contourcarpet": [
           {
            "colorbar": {
             "outlinewidth": 0,
             "ticks": ""
            },
            "type": "contourcarpet"
           }
          ],
          "heatmap": [
           {
            "colorbar": {
             "outlinewidth": 0,
             "ticks": ""
            },
            "colorscale": [
             [
              0,
              "#0d0887"
             ],
             [
              0.1111111111111111,
              "#46039f"
             ],
             [
              0.2222222222222222,
              "#7201a8"
             ],
             [
              0.3333333333333333,
              "#9c179e"
             ],
             [
              0.4444444444444444,
              "#bd3786"
             ],
             [
              0.5555555555555556,
              "#d8576b"
             ],
             [
              0.6666666666666666,
              "#ed7953"
             ],
             [
              0.7777777777777778,
              "#fb9f3a"
             ],
             [
              0.8888888888888888,
              "#fdca26"
             ],
             [
              1,
              "#f0f921"
             ]
            ],
            "type": "heatmap"
           }
          ],
          "heatmapgl": [
           {
            "colorbar": {
             "outlinewidth": 0,
             "ticks": ""
            },
            "colorscale": [
             [
              0,
              "#0d0887"
             ],
             [
              0.1111111111111111,
              "#46039f"
             ],
             [
              0.2222222222222222,
              "#7201a8"
             ],
             [
              0.3333333333333333,
              "#9c179e"
             ],
             [
              0.4444444444444444,
              "#bd3786"
             ],
             [
              0.5555555555555556,
              "#d8576b"
             ],
             [
              0.6666666666666666,
              "#ed7953"
             ],
             [
              0.7777777777777778,
              "#fb9f3a"
             ],
             [
              0.8888888888888888,
              "#fdca26"
             ],
             [
              1,
              "#f0f921"
             ]
            ],
            "type": "heatmapgl"
           }
          ],
          "histogram": [
           {
            "marker": {
             "pattern": {
              "fillmode": "overlay",
              "size": 10,
              "solidity": 0.2
             }
            },
            "type": "histogram"
           }
          ],
          "histogram2d": [
           {
            "colorbar": {
             "outlinewidth": 0,
             "ticks": ""
            },
            "colorscale": [
             [
              0,
              "#0d0887"
             ],
             [
              0.1111111111111111,
              "#46039f"
             ],
             [
              0.2222222222222222,
              "#7201a8"
             ],
             [
              0.3333333333333333,
              "#9c179e"
             ],
             [
              0.4444444444444444,
              "#bd3786"
             ],
             [
              0.5555555555555556,
              "#d8576b"
             ],
             [
              0.6666666666666666,
              "#ed7953"
             ],
             [
              0.7777777777777778,
              "#fb9f3a"
             ],
             [
              0.8888888888888888,
              "#fdca26"
             ],
             [
              1,
              "#f0f921"
             ]
            ],
            "type": "histogram2d"
           }
          ],
          "histogram2dcontour": [
           {
            "colorbar": {
             "outlinewidth": 0,
             "ticks": ""
            },
            "colorscale": [
             [
              0,
              "#0d0887"
             ],
             [
              0.1111111111111111,
              "#46039f"
             ],
             [
              0.2222222222222222,
              "#7201a8"
             ],
             [
              0.3333333333333333,
              "#9c179e"
             ],
             [
              0.4444444444444444,
              "#bd3786"
             ],
             [
              0.5555555555555556,
              "#d8576b"
             ],
             [
              0.6666666666666666,
              "#ed7953"
             ],
             [
              0.7777777777777778,
              "#fb9f3a"
             ],
             [
              0.8888888888888888,
              "#fdca26"
             ],
             [
              1,
              "#f0f921"
             ]
            ],
            "type": "histogram2dcontour"
           }
          ],
          "mesh3d": [
           {
            "colorbar": {
             "outlinewidth": 0,
             "ticks": ""
            },
            "type": "mesh3d"
           }
          ],
          "parcoords": [
           {
            "line": {
             "colorbar": {
              "outlinewidth": 0,
              "ticks": ""
             }
            },
            "type": "parcoords"
           }
          ],
          "pie": [
           {
            "automargin": true,
            "type": "pie"
           }
          ],
          "scatter": [
           {
            "fillpattern": {
             "fillmode": "overlay",
             "size": 10,
             "solidity": 0.2
            },
            "type": "scatter"
           }
          ],
          "scatter3d": [
           {
            "line": {
             "colorbar": {
              "outlinewidth": 0,
              "ticks": ""
             }
            },
            "marker": {
             "colorbar": {
              "outlinewidth": 0,
              "ticks": ""
             }
            },
            "type": "scatter3d"
           }
          ],
          "scattercarpet": [
           {
            "marker": {
             "colorbar": {
              "outlinewidth": 0,
              "ticks": ""
             }
            },
            "type": "scattercarpet"
           }
          ],
          "scattergeo": [
           {
            "marker": {
             "colorbar": {
              "outlinewidth": 0,
              "ticks": ""
             }
            },
            "type": "scattergeo"
           }
          ],
          "scattergl": [
           {
            "marker": {
             "colorbar": {
              "outlinewidth": 0,
              "ticks": ""
             }
            },
            "type": "scattergl"
           }
          ],
          "scattermapbox": [
           {
            "marker": {
             "colorbar": {
              "outlinewidth": 0,
              "ticks": ""
             }
            },
            "type": "scattermapbox"
           }
          ],
          "scatterpolar": [
           {
            "marker": {
             "colorbar": {
              "outlinewidth": 0,
              "ticks": ""
             }
            },
            "type": "scatterpolar"
           }
          ],
          "scatterpolargl": [
           {
            "marker": {
             "colorbar": {
              "outlinewidth": 0,
              "ticks": ""
             }
            },
            "type": "scatterpolargl"
           }
          ],
          "scatterternary": [
           {
            "marker": {
             "colorbar": {
              "outlinewidth": 0,
              "ticks": ""
             }
            },
            "type": "scatterternary"
           }
          ],
          "surface": [
           {
            "colorbar": {
             "outlinewidth": 0,
             "ticks": ""
            },
            "colorscale": [
             [
              0,
              "#0d0887"
             ],
             [
              0.1111111111111111,
              "#46039f"
             ],
             [
              0.2222222222222222,
              "#7201a8"
             ],
             [
              0.3333333333333333,
              "#9c179e"
             ],
             [
              0.4444444444444444,
              "#bd3786"
             ],
             [
              0.5555555555555556,
              "#d8576b"
             ],
             [
              0.6666666666666666,
              "#ed7953"
             ],
             [
              0.7777777777777778,
              "#fb9f3a"
             ],
             [
              0.8888888888888888,
              "#fdca26"
             ],
             [
              1,
              "#f0f921"
             ]
            ],
            "type": "surface"
           }
          ],
          "table": [
           {
            "cells": {
             "fill": {
              "color": "#EBF0F8"
             },
             "line": {
              "color": "white"
             }
            },
            "header": {
             "fill": {
              "color": "#C8D4E3"
             },
             "line": {
              "color": "white"
             }
            },
            "type": "table"
           }
          ]
         },
         "layout": {
          "annotationdefaults": {
           "arrowcolor": "#2a3f5f",
           "arrowhead": 0,
           "arrowwidth": 1
          },
          "autotypenumbers": "strict",
          "coloraxis": {
           "colorbar": {
            "outlinewidth": 0,
            "ticks": ""
           }
          },
          "colorscale": {
           "diverging": [
            [
             0,
             "#8e0152"
            ],
            [
             0.1,
             "#c51b7d"
            ],
            [
             0.2,
             "#de77ae"
            ],
            [
             0.3,
             "#f1b6da"
            ],
            [
             0.4,
             "#fde0ef"
            ],
            [
             0.5,
             "#f7f7f7"
            ],
            [
             0.6,
             "#e6f5d0"
            ],
            [
             0.7,
             "#b8e186"
            ],
            [
             0.8,
             "#7fbc41"
            ],
            [
             0.9,
             "#4d9221"
            ],
            [
             1,
             "#276419"
            ]
           ],
           "sequential": [
            [
             0,
             "#0d0887"
            ],
            [
             0.1111111111111111,
             "#46039f"
            ],
            [
             0.2222222222222222,
             "#7201a8"
            ],
            [
             0.3333333333333333,
             "#9c179e"
            ],
            [
             0.4444444444444444,
             "#bd3786"
            ],
            [
             0.5555555555555556,
             "#d8576b"
            ],
            [
             0.6666666666666666,
             "#ed7953"
            ],
            [
             0.7777777777777778,
             "#fb9f3a"
            ],
            [
             0.8888888888888888,
             "#fdca26"
            ],
            [
             1,
             "#f0f921"
            ]
           ],
           "sequentialminus": [
            [
             0,
             "#0d0887"
            ],
            [
             0.1111111111111111,
             "#46039f"
            ],
            [
             0.2222222222222222,
             "#7201a8"
            ],
            [
             0.3333333333333333,
             "#9c179e"
            ],
            [
             0.4444444444444444,
             "#bd3786"
            ],
            [
             0.5555555555555556,
             "#d8576b"
            ],
            [
             0.6666666666666666,
             "#ed7953"
            ],
            [
             0.7777777777777778,
             "#fb9f3a"
            ],
            [
             0.8888888888888888,
             "#fdca26"
            ],
            [
             1,
             "#f0f921"
            ]
           ]
          },
          "colorway": [
           "#636efa",
           "#EF553B",
           "#00cc96",
           "#ab63fa",
           "#FFA15A",
           "#19d3f3",
           "#FF6692",
           "#B6E880",
           "#FF97FF",
           "#FECB52"
          ],
          "font": {
           "color": "#2a3f5f"
          },
          "geo": {
           "bgcolor": "white",
           "lakecolor": "white",
           "landcolor": "#E5ECF6",
           "showlakes": true,
           "showland": true,
           "subunitcolor": "white"
          },
          "hoverlabel": {
           "align": "left"
          },
          "hovermode": "closest",
          "mapbox": {
           "style": "light"
          },
          "paper_bgcolor": "white",
          "plot_bgcolor": "#E5ECF6",
          "polar": {
           "angularaxis": {
            "gridcolor": "white",
            "linecolor": "white",
            "ticks": ""
           },
           "bgcolor": "#E5ECF6",
           "radialaxis": {
            "gridcolor": "white",
            "linecolor": "white",
            "ticks": ""
           }
          },
          "scene": {
           "xaxis": {
            "backgroundcolor": "#E5ECF6",
            "gridcolor": "white",
            "gridwidth": 2,
            "linecolor": "white",
            "showbackground": true,
            "ticks": "",
            "zerolinecolor": "white"
           },
           "yaxis": {
            "backgroundcolor": "#E5ECF6",
            "gridcolor": "white",
            "gridwidth": 2,
            "linecolor": "white",
            "showbackground": true,
            "ticks": "",
            "zerolinecolor": "white"
           },
           "zaxis": {
            "backgroundcolor": "#E5ECF6",
            "gridcolor": "white",
            "gridwidth": 2,
            "linecolor": "white",
            "showbackground": true,
            "ticks": "",
            "zerolinecolor": "white"
           }
          },
          "shapedefaults": {
           "line": {
            "color": "#2a3f5f"
           }
          },
          "ternary": {
           "aaxis": {
            "gridcolor": "white",
            "linecolor": "white",
            "ticks": ""
           },
           "baxis": {
            "gridcolor": "white",
            "linecolor": "white",
            "ticks": ""
           },
           "bgcolor": "#E5ECF6",
           "caxis": {
            "gridcolor": "white",
            "linecolor": "white",
            "ticks": ""
           }
          },
          "title": {
           "x": 0.05
          },
          "xaxis": {
           "automargin": true,
           "gridcolor": "white",
           "linecolor": "white",
           "ticks": "",
           "title": {
            "standoff": 15
           },
           "zerolinecolor": "white",
           "zerolinewidth": 2
          },
          "yaxis": {
           "automargin": true,
           "gridcolor": "white",
           "linecolor": "white",
           "ticks": "",
           "title": {
            "standoff": 15
           },
           "zerolinecolor": "white",
           "zerolinewidth": 2
          }
         }
        },
        "title": {
         "text": "RMSE"
        },
        "xaxis": {
         "anchor": "y",
         "domain": [
          0,
          1
         ],
         "title": {
          "text": "month"
         }
        },
        "yaxis": {
         "anchor": "x",
         "domain": [
          0,
          1
         ],
         "title": {
          "text": "RMSE"
         }
        }
       }
      },
      "text/html": [
       "<div>                            <div id=\"2929c867-0852-4e2b-b33f-bbc4e09638ab\" class=\"plotly-graph-div\" style=\"height:525px; width:100%;\"></div>            <script type=\"text/javascript\">                require([\"plotly\"], function(Plotly) {                    window.PLOTLYENV=window.PLOTLYENV || {};                                    if (document.getElementById(\"2929c867-0852-4e2b-b33f-bbc4e09638ab\")) {                    Plotly.newPlot(                        \"2929c867-0852-4e2b-b33f-bbc4e09638ab\",                        [{\"hovertemplate\":\"train_irradiance=original<br>irradiance_type=forecasted<br>month=%{x}<br>RMSE=%{y}<extra></extra>\",\"legendgroup\":\"original, forecasted\",\"line\":{\"color\":\"#636efa\",\"dash\":\"solid\"},\"marker\":{\"symbol\":\"circle\"},\"mode\":\"lines+markers\",\"name\":\"original, forecasted\",\"orientation\":\"v\",\"showlegend\":true,\"x\":[\"july\",\"august\",\"september\",\"october\",\"november\",\"december\"],\"xaxis\":\"x\",\"y\":[26.108735266186965,39.64732989894952,30.745547533059288,19.090720808083923,16.310599386764128,14.87745786354374],\"yaxis\":\"y\",\"type\":\"scatter\"},{\"hovertemplate\":\"train_irradiance=original<br>irradiance_type=original<br>month=%{x}<br>RMSE=%{y}<extra></extra>\",\"legendgroup\":\"original, original\",\"line\":{\"color\":\"#636efa\",\"dash\":\"solid\"},\"marker\":{\"symbol\":\"diamond\"},\"mode\":\"lines+markers\",\"name\":\"original, original\",\"orientation\":\"v\",\"showlegend\":true,\"x\":[\"july\",\"august\",\"september\",\"october\",\"november\",\"december\"],\"xaxis\":\"x\",\"y\":[12.082875150542964,13.982174042965411,17.256246091102753,14.577115579722848,13.484029315747492,13.313704176126262],\"yaxis\":\"y\",\"type\":\"scatter\"},{\"hovertemplate\":\"train_irradiance=forecasted<br>irradiance_type=forecasted<br>month=%{x}<br>RMSE=%{y}<extra></extra>\",\"legendgroup\":\"forecasted, forecasted\",\"line\":{\"color\":\"#EF553B\",\"dash\":\"solid\"},\"marker\":{\"symbol\":\"circle\"},\"mode\":\"lines+markers\",\"name\":\"forecasted, forecasted\",\"orientation\":\"v\",\"showlegend\":true,\"x\":[\"july\",\"august\",\"september\",\"october\",\"november\",\"december\"],\"xaxis\":\"x\",\"y\":[24.582390391089408,37.55321968422598,28.00298490389808,20.54498750431266,17.510873575196573,13.258876322595723],\"yaxis\":\"y\",\"type\":\"scatter\"},{\"hovertemplate\":\"train_irradiance=forecasted<br>irradiance_type=original<br>month=%{x}<br>RMSE=%{y}<extra></extra>\",\"legendgroup\":\"forecasted, original\",\"line\":{\"color\":\"#EF553B\",\"dash\":\"solid\"},\"marker\":{\"symbol\":\"diamond\"},\"mode\":\"lines+markers\",\"name\":\"forecasted, original\",\"orientation\":\"v\",\"showlegend\":true,\"x\":[\"july\",\"august\",\"september\",\"october\",\"november\",\"december\"],\"xaxis\":\"x\",\"y\":[24.010637567228404,35.0402617521532,29.214427641788397,23.631743360641423,17.65820779333147,13.832082644559623],\"yaxis\":\"y\",\"type\":\"scatter\"},{\"hovertemplate\":\"train_irradiance=original_InterpolLin<br>irradiance_type=forecasted<br>month=%{x}<br>RMSE=%{y}<extra></extra>\",\"legendgroup\":\"original_InterpolLin, forecasted\",\"line\":{\"color\":\"#00cc96\",\"dash\":\"solid\"},\"marker\":{\"symbol\":\"circle\"},\"mode\":\"lines+markers\",\"name\":\"original_InterpolLin, forecasted\",\"orientation\":\"v\",\"showlegend\":true,\"x\":[\"july\",\"august\",\"september\",\"october\",\"november\",\"december\"],\"xaxis\":\"x\",\"y\":[26.17556103117228,40.38052921018882,30.62487132211748,15.700608346923817,15.438068960650822,13.259505094368311],\"yaxis\":\"y\",\"type\":\"scatter\"},{\"hovertemplate\":\"train_irradiance=original_InterpolLin<br>irradiance_type=original<br>month=%{x}<br>RMSE=%{y}<extra></extra>\",\"legendgroup\":\"original_InterpolLin, original\",\"line\":{\"color\":\"#00cc96\",\"dash\":\"solid\"},\"marker\":{\"symbol\":\"diamond\"},\"mode\":\"lines+markers\",\"name\":\"original_InterpolLin, original\",\"orientation\":\"v\",\"showlegend\":true,\"x\":[\"july\",\"august\",\"september\",\"october\",\"november\",\"december\"],\"xaxis\":\"x\",\"y\":[13.031254620918656,14.02929539382322,16.174733424519154,13.04492166751721,11.290170635635045,10.433422684019163],\"yaxis\":\"y\",\"type\":\"scatter\"},{\"hovertemplate\":\"train_irradiance=forecasted_InterpolLin<br>irradiance_type=forecasted<br>month=%{x}<br>RMSE=%{y}<extra></extra>\",\"legendgroup\":\"forecasted_InterpolLin, forecasted\",\"line\":{\"color\":\"#ab63fa\",\"dash\":\"solid\"},\"marker\":{\"symbol\":\"circle\"},\"mode\":\"lines+markers\",\"name\":\"forecasted_InterpolLin, forecasted\",\"orientation\":\"v\",\"showlegend\":true,\"x\":[\"july\",\"august\",\"september\",\"october\",\"november\",\"december\"],\"xaxis\":\"x\",\"y\":[25.494815384059624,36.07565121279914,26.351470194687803,16.977155351186433,15.455697990868671,13.698872146312077],\"yaxis\":\"y\",\"type\":\"scatter\"},{\"hovertemplate\":\"train_irradiance=forecasted_InterpolLin<br>irradiance_type=original<br>month=%{x}<br>RMSE=%{y}<extra></extra>\",\"legendgroup\":\"forecasted_InterpolLin, original\",\"line\":{\"color\":\"#ab63fa\",\"dash\":\"solid\"},\"marker\":{\"symbol\":\"diamond\"},\"mode\":\"lines+markers\",\"name\":\"forecasted_InterpolLin, original\",\"orientation\":\"v\",\"showlegend\":true,\"x\":[\"july\",\"august\",\"september\",\"october\",\"november\",\"december\"],\"xaxis\":\"x\",\"y\":[21.72421435686607,27.03520415187358,22.07689344553796,16.360634703746317,13.041364909904058,11.917237052510943],\"yaxis\":\"y\",\"type\":\"scatter\"}],                        {\"template\":{\"data\":{\"histogram2dcontour\":[{\"type\":\"histogram2dcontour\",\"colorbar\":{\"outlinewidth\":0,\"ticks\":\"\"},\"colorscale\":[[0.0,\"#0d0887\"],[0.1111111111111111,\"#46039f\"],[0.2222222222222222,\"#7201a8\"],[0.3333333333333333,\"#9c179e\"],[0.4444444444444444,\"#bd3786\"],[0.5555555555555556,\"#d8576b\"],[0.6666666666666666,\"#ed7953\"],[0.7777777777777778,\"#fb9f3a\"],[0.8888888888888888,\"#fdca26\"],[1.0,\"#f0f921\"]]}],\"choropleth\":[{\"type\":\"choropleth\",\"colorbar\":{\"outlinewidth\":0,\"ticks\":\"\"}}],\"histogram2d\":[{\"type\":\"histogram2d\",\"colorbar\":{\"outlinewidth\":0,\"ticks\":\"\"},\"colorscale\":[[0.0,\"#0d0887\"],[0.1111111111111111,\"#46039f\"],[0.2222222222222222,\"#7201a8\"],[0.3333333333333333,\"#9c179e\"],[0.4444444444444444,\"#bd3786\"],[0.5555555555555556,\"#d8576b\"],[0.6666666666666666,\"#ed7953\"],[0.7777777777777778,\"#fb9f3a\"],[0.8888888888888888,\"#fdca26\"],[1.0,\"#f0f921\"]]}],\"heatmap\":[{\"type\":\"heatmap\",\"colorbar\":{\"outlinewidth\":0,\"ticks\":\"\"},\"colorscale\":[[0.0,\"#0d0887\"],[0.1111111111111111,\"#46039f\"],[0.2222222222222222,\"#7201a8\"],[0.3333333333333333,\"#9c179e\"],[0.4444444444444444,\"#bd3786\"],[0.5555555555555556,\"#d8576b\"],[0.6666666666666666,\"#ed7953\"],[0.7777777777777778,\"#fb9f3a\"],[0.8888888888888888,\"#fdca26\"],[1.0,\"#f0f921\"]]}],\"heatmapgl\":[{\"type\":\"heatmapgl\",\"colorbar\":{\"outlinewidth\":0,\"ticks\":\"\"},\"colorscale\":[[0.0,\"#0d0887\"],[0.1111111111111111,\"#46039f\"],[0.2222222222222222,\"#7201a8\"],[0.3333333333333333,\"#9c179e\"],[0.4444444444444444,\"#bd3786\"],[0.5555555555555556,\"#d8576b\"],[0.6666666666666666,\"#ed7953\"],[0.7777777777777778,\"#fb9f3a\"],[0.8888888888888888,\"#fdca26\"],[1.0,\"#f0f921\"]]}],\"contourcarpet\":[{\"type\":\"contourcarpet\",\"colorbar\":{\"outlinewidth\":0,\"ticks\":\"\"}}],\"contour\":[{\"type\":\"contour\",\"colorbar\":{\"outlinewidth\":0,\"ticks\":\"\"},\"colorscale\":[[0.0,\"#0d0887\"],[0.1111111111111111,\"#46039f\"],[0.2222222222222222,\"#7201a8\"],[0.3333333333333333,\"#9c179e\"],[0.4444444444444444,\"#bd3786\"],[0.5555555555555556,\"#d8576b\"],[0.6666666666666666,\"#ed7953\"],[0.7777777777777778,\"#fb9f3a\"],[0.8888888888888888,\"#fdca26\"],[1.0,\"#f0f921\"]]}],\"surface\":[{\"type\":\"surface\",\"colorbar\":{\"outlinewidth\":0,\"ticks\":\"\"},\"colorscale\":[[0.0,\"#0d0887\"],[0.1111111111111111,\"#46039f\"],[0.2222222222222222,\"#7201a8\"],[0.3333333333333333,\"#9c179e\"],[0.4444444444444444,\"#bd3786\"],[0.5555555555555556,\"#d8576b\"],[0.6666666666666666,\"#ed7953\"],[0.7777777777777778,\"#fb9f3a\"],[0.8888888888888888,\"#fdca26\"],[1.0,\"#f0f921\"]]}],\"mesh3d\":[{\"type\":\"mesh3d\",\"colorbar\":{\"outlinewidth\":0,\"ticks\":\"\"}}],\"scatter\":[{\"fillpattern\":{\"fillmode\":\"overlay\",\"size\":10,\"solidity\":0.2},\"type\":\"scatter\"}],\"parcoords\":[{\"type\":\"parcoords\",\"line\":{\"colorbar\":{\"outlinewidth\":0,\"ticks\":\"\"}}}],\"scatterpolargl\":[{\"type\":\"scatterpolargl\",\"marker\":{\"colorbar\":{\"outlinewidth\":0,\"ticks\":\"\"}}}],\"bar\":[{\"error_x\":{\"color\":\"#2a3f5f\"},\"error_y\":{\"color\":\"#2a3f5f\"},\"marker\":{\"line\":{\"color\":\"#E5ECF6\",\"width\":0.5},\"pattern\":{\"fillmode\":\"overlay\",\"size\":10,\"solidity\":0.2}},\"type\":\"bar\"}],\"scattergeo\":[{\"type\":\"scattergeo\",\"marker\":{\"colorbar\":{\"outlinewidth\":0,\"ticks\":\"\"}}}],\"scatterpolar\":[{\"type\":\"scatterpolar\",\"marker\":{\"colorbar\":{\"outlinewidth\":0,\"ticks\":\"\"}}}],\"histogram\":[{\"marker\":{\"pattern\":{\"fillmode\":\"overlay\",\"size\":10,\"solidity\":0.2}},\"type\":\"histogram\"}],\"scattergl\":[{\"type\":\"scattergl\",\"marker\":{\"colorbar\":{\"outlinewidth\":0,\"ticks\":\"\"}}}],\"scatter3d\":[{\"type\":\"scatter3d\",\"line\":{\"colorbar\":{\"outlinewidth\":0,\"ticks\":\"\"}},\"marker\":{\"colorbar\":{\"outlinewidth\":0,\"ticks\":\"\"}}}],\"scattermapbox\":[{\"type\":\"scattermapbox\",\"marker\":{\"colorbar\":{\"outlinewidth\":0,\"ticks\":\"\"}}}],\"scatterternary\":[{\"type\":\"scatterternary\",\"marker\":{\"colorbar\":{\"outlinewidth\":0,\"ticks\":\"\"}}}],\"scattercarpet\":[{\"type\":\"scattercarpet\",\"marker\":{\"colorbar\":{\"outlinewidth\":0,\"ticks\":\"\"}}}],\"carpet\":[{\"aaxis\":{\"endlinecolor\":\"#2a3f5f\",\"gridcolor\":\"white\",\"linecolor\":\"white\",\"minorgridcolor\":\"white\",\"startlinecolor\":\"#2a3f5f\"},\"baxis\":{\"endlinecolor\":\"#2a3f5f\",\"gridcolor\":\"white\",\"linecolor\":\"white\",\"minorgridcolor\":\"white\",\"startlinecolor\":\"#2a3f5f\"},\"type\":\"carpet\"}],\"table\":[{\"cells\":{\"fill\":{\"color\":\"#EBF0F8\"},\"line\":{\"color\":\"white\"}},\"header\":{\"fill\":{\"color\":\"#C8D4E3\"},\"line\":{\"color\":\"white\"}},\"type\":\"table\"}],\"barpolar\":[{\"marker\":{\"line\":{\"color\":\"#E5ECF6\",\"width\":0.5},\"pattern\":{\"fillmode\":\"overlay\",\"size\":10,\"solidity\":0.2}},\"type\":\"barpolar\"}],\"pie\":[{\"automargin\":true,\"type\":\"pie\"}]},\"layout\":{\"autotypenumbers\":\"strict\",\"colorway\":[\"#636efa\",\"#EF553B\",\"#00cc96\",\"#ab63fa\",\"#FFA15A\",\"#19d3f3\",\"#FF6692\",\"#B6E880\",\"#FF97FF\",\"#FECB52\"],\"font\":{\"color\":\"#2a3f5f\"},\"hovermode\":\"closest\",\"hoverlabel\":{\"align\":\"left\"},\"paper_bgcolor\":\"white\",\"plot_bgcolor\":\"#E5ECF6\",\"polar\":{\"bgcolor\":\"#E5ECF6\",\"angularaxis\":{\"gridcolor\":\"white\",\"linecolor\":\"white\",\"ticks\":\"\"},\"radialaxis\":{\"gridcolor\":\"white\",\"linecolor\":\"white\",\"ticks\":\"\"}},\"ternary\":{\"bgcolor\":\"#E5ECF6\",\"aaxis\":{\"gridcolor\":\"white\",\"linecolor\":\"white\",\"ticks\":\"\"},\"baxis\":{\"gridcolor\":\"white\",\"linecolor\":\"white\",\"ticks\":\"\"},\"caxis\":{\"gridcolor\":\"white\",\"linecolor\":\"white\",\"ticks\":\"\"}},\"coloraxis\":{\"colorbar\":{\"outlinewidth\":0,\"ticks\":\"\"}},\"colorscale\":{\"sequential\":[[0.0,\"#0d0887\"],[0.1111111111111111,\"#46039f\"],[0.2222222222222222,\"#7201a8\"],[0.3333333333333333,\"#9c179e\"],[0.4444444444444444,\"#bd3786\"],[0.5555555555555556,\"#d8576b\"],[0.6666666666666666,\"#ed7953\"],[0.7777777777777778,\"#fb9f3a\"],[0.8888888888888888,\"#fdca26\"],[1.0,\"#f0f921\"]],\"sequentialminus\":[[0.0,\"#0d0887\"],[0.1111111111111111,\"#46039f\"],[0.2222222222222222,\"#7201a8\"],[0.3333333333333333,\"#9c179e\"],[0.4444444444444444,\"#bd3786\"],[0.5555555555555556,\"#d8576b\"],[0.6666666666666666,\"#ed7953\"],[0.7777777777777778,\"#fb9f3a\"],[0.8888888888888888,\"#fdca26\"],[1.0,\"#f0f921\"]],\"diverging\":[[0,\"#8e0152\"],[0.1,\"#c51b7d\"],[0.2,\"#de77ae\"],[0.3,\"#f1b6da\"],[0.4,\"#fde0ef\"],[0.5,\"#f7f7f7\"],[0.6,\"#e6f5d0\"],[0.7,\"#b8e186\"],[0.8,\"#7fbc41\"],[0.9,\"#4d9221\"],[1,\"#276419\"]]},\"xaxis\":{\"gridcolor\":\"white\",\"linecolor\":\"white\",\"ticks\":\"\",\"title\":{\"standoff\":15},\"zerolinecolor\":\"white\",\"automargin\":true,\"zerolinewidth\":2},\"yaxis\":{\"gridcolor\":\"white\",\"linecolor\":\"white\",\"ticks\":\"\",\"title\":{\"standoff\":15},\"zerolinecolor\":\"white\",\"automargin\":true,\"zerolinewidth\":2},\"scene\":{\"xaxis\":{\"backgroundcolor\":\"#E5ECF6\",\"gridcolor\":\"white\",\"linecolor\":\"white\",\"showbackground\":true,\"ticks\":\"\",\"zerolinecolor\":\"white\",\"gridwidth\":2},\"yaxis\":{\"backgroundcolor\":\"#E5ECF6\",\"gridcolor\":\"white\",\"linecolor\":\"white\",\"showbackground\":true,\"ticks\":\"\",\"zerolinecolor\":\"white\",\"gridwidth\":2},\"zaxis\":{\"backgroundcolor\":\"#E5ECF6\",\"gridcolor\":\"white\",\"linecolor\":\"white\",\"showbackground\":true,\"ticks\":\"\",\"zerolinecolor\":\"white\",\"gridwidth\":2}},\"shapedefaults\":{\"line\":{\"color\":\"#2a3f5f\"}},\"annotationdefaults\":{\"arrowcolor\":\"#2a3f5f\",\"arrowhead\":0,\"arrowwidth\":1},\"geo\":{\"bgcolor\":\"white\",\"landcolor\":\"#E5ECF6\",\"subunitcolor\":\"white\",\"showland\":true,\"showlakes\":true,\"lakecolor\":\"white\"},\"title\":{\"x\":0.05},\"mapbox\":{\"style\":\"light\"}}},\"xaxis\":{\"anchor\":\"y\",\"domain\":[0.0,1.0],\"title\":{\"text\":\"month\"}},\"yaxis\":{\"anchor\":\"x\",\"domain\":[0.0,1.0],\"title\":{\"text\":\"RMSE\"}},\"legend\":{\"title\":{\"text\":\"train_irradiance, irradiance_type\"},\"tracegroupgap\":0},\"title\":{\"text\":\"RMSE\"}},                        {\"responsive\": true}                    ).then(function(){\n",
       "                            \n",
       "var gd = document.getElementById('2929c867-0852-4e2b-b33f-bbc4e09638ab');\n",
       "var x = new MutationObserver(function (mutations, observer) {{\n",
       "        var display = window.getComputedStyle(gd).display;\n",
       "        if (!display || display === 'none') {{\n",
       "            console.log([gd, 'removed!']);\n",
       "            Plotly.purge(gd);\n",
       "            observer.disconnect();\n",
       "        }}\n",
       "}});\n",
       "\n",
       "// Listen for the removal of the full notebook cells\n",
       "var notebookContainer = gd.closest('#notebook-container');\n",
       "if (notebookContainer) {{\n",
       "    x.observe(notebookContainer, {childList: true});\n",
       "}}\n",
       "\n",
       "// Listen for the clearing of the current output cell\n",
       "var outputEl = gd.closest('.output');\n",
       "if (outputEl) {{\n",
       "    x.observe(outputEl, {childList: true});\n",
       "}}\n",
       "\n",
       "                        })                };                });            </script>        </div>"
      ]
     },
     "metadata": {},
     "output_type": "display_data"
    }
   ],
   "source": [
    "fig = px.line(df_combined_LV, x='month', y='RMSE', color='train_irradiance', title='RMSE', symbol = 'irradiance_type')\n",
    "fig.show()\n",
    "fig.write_html('./export_plot_MSE_comparison.html')"
   ]
  },
  {
   "cell_type": "code",
   "execution_count": null,
   "metadata": {},
   "outputs": [],
   "source": []
  }
 ],
 "metadata": {
  "kernelspec": {
   "display_name": "Python 3 (ipykernel)",
   "language": "python",
   "name": "python3"
  },
  "language_info": {
   "codemirror_mode": {
    "name": "ipython",
    "version": 3
   },
   "file_extension": ".py",
   "mimetype": "text/x-python",
   "name": "python",
   "nbconvert_exporter": "python",
   "pygments_lexer": "ipython3",
   "version": "3.8.16"
  },
  "orig_nbformat": 4
 },
 "nbformat": 4,
 "nbformat_minor": 2
}
